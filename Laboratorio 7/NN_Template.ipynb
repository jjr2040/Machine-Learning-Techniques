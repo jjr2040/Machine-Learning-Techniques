{
  "nbformat": 4,
  "nbformat_minor": 0,
  "metadata": {
    "colab": {
      "name": "NN Template.ipynb",
      "provenance": [],
      "collapsed_sections": [],
      "include_colab_link": true
    },
    "kernelspec": {
      "name": "python3",
      "display_name": "Python 3"
    },
    "accelerator": "TPU"
  },
  "cells": [
    {
      "cell_type": "markdown",
      "metadata": {
        "id": "view-in-github",
        "colab_type": "text"
      },
      "source": [
        "<a href=\"https://colab.research.google.com/github/jcestevezc/Machine-Learning-Techniques/blob/master/Laboratorio%207/NN_Template.ipynb\" target=\"_parent\"><img src=\"https://colab.research.google.com/assets/colab-badge.svg\" alt=\"Open In Colab\"/></a>"
      ]
    },
    {
      "cell_type": "markdown",
      "metadata": {
        "id": "Q7ffxRZZbhIP",
        "colab_type": "text"
      },
      "source": [
        "\n",
        "<img src=\"https://cursos.virtual.uniandes.edu.co/isis4219/wp-content/uploads/sites/162/2014/11/cropped-misisheader.png\" ><br>\n",
        "# Machine Learning Techniques - ISIS4219\n",
        "\n",
        "Intersemestral 2020\n",
        "\n",
        "\n"
      ]
    },
    {
      "cell_type": "markdown",
      "metadata": {
        "id": "ZhQ10uguL5Sb",
        "colab_type": "text"
      },
      "source": [
        "## Nombre de la red\n",
        "\n",
        "¿Que es una red XXXX?"
      ]
    },
    {
      "cell_type": "markdown",
      "metadata": {
        "id": "xLzkSAOwMGiH",
        "colab_type": "text"
      },
      "source": [
        "### **1. Razones para utilizar la red**\n",
        "\n"
      ]
    },
    {
      "cell_type": "markdown",
      "metadata": {
        "id": "kwIEEATzMGo3",
        "colab_type": "text"
      },
      "source": [
        "### **2. Aplicaciones de la red**"
      ]
    },
    {
      "cell_type": "markdown",
      "metadata": {
        "id": "f0ntZZmGMGsb",
        "colab_type": "text"
      },
      "source": [
        "### **3. Arquitectura de la red**"
      ]
    },
    {
      "cell_type": "markdown",
      "metadata": {
        "id": "CEE5BsveMGvp",
        "colab_type": "text"
      },
      "source": [
        "### **4. La red en Keras**"
      ]
    },
    {
      "cell_type": "markdown",
      "metadata": {
        "id": "iSP8Av50MG34",
        "colab_type": "text"
      },
      "source": [
        "### **5. Propiedades e hiperparametros**"
      ]
    },
    {
      "cell_type": "markdown",
      "metadata": {
        "id": "UTi20gZbNIok",
        "colab_type": "text"
      },
      "source": [
        "### **6. Ejemplo practico - Demo**"
      ]
    },
    {
      "cell_type": "markdown",
      "metadata": {
        "id": "hbxDnwb8NaNo",
        "colab_type": "text"
      },
      "source": [
        "Nota: para el desarrollo de este taller, tomar como referencia el siguiente ejemplo: [autoencoders](https://www.edureka.co/blog/autoencoders-tutorial/)."
      ]
    }
  ]
}