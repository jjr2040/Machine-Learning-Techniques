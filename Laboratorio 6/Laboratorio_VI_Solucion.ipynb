{
  "nbformat": 4,
  "nbformat_minor": 0,
  "metadata": {
    "kernelspec": {
      "display_name": "Python 3",
      "language": "python",
      "name": "python3"
    },
    "language_info": {
      "codemirror_mode": {
        "name": "ipython",
        "version": 3
      },
      "file_extension": ".py",
      "mimetype": "text/x-python",
      "name": "python",
      "nbconvert_exporter": "python",
      "pygments_lexer": "ipython3",
      "version": "3.7.1"
    },
    "colab": {
      "name": "Laboratorio VI Solucion.ipynb",
      "provenance": [],
      "collapsed_sections": [
        "ZSTJi8iWcTAB",
        "ZPg_tCo9q-Y1",
        "0xctGhNVcs3Z"
      ],
      "include_colab_link": true
    },
    "accelerator": "TPU"
  },
  "cells": [
    {
      "cell_type": "markdown",
      "metadata": {
        "id": "view-in-github",
        "colab_type": "text"
      },
      "source": [
        "<a href=\"https://colab.research.google.com/github/jcestevezc/Machine-Learning-Techniques/blob/master/Laboratorio%206/Laboratorio_VI_Solucion.ipynb\" target=\"_parent\"><img src=\"https://colab.research.google.com/assets/colab-badge.svg\" alt=\"Open In Colab\"/></a>"
      ]
    },
    {
      "cell_type": "markdown",
      "metadata": {
        "id": "Q7ffxRZZbhIP",
        "colab_type": "text"
      },
      "source": [
        "\n",
        "<img src=\"https://cursos.virtual.uniandes.edu.co/isis4219/wp-content/uploads/sites/162/2014/11/cropped-misisheader.png\" ><br>\n",
        "# Machine Learning Techniques - ISIS4219\n",
        "\n",
        "Intersemestral 2020\n"
      ]
    },
    {
      "cell_type": "markdown",
      "metadata": {
        "id": "j79las3xZgA1",
        "colab_type": "text"
      },
      "source": [
        "## Objetivos\n",
        "\n",
        "*   Aplicar la técnica de data augmentation a un conjunto de imagenes.\n",
        "*   Construir un clasificador de imagenes a partir de una red neuronal convolucional (CNN).\n",
        "*   Construir un clasificador de imagenes utilizando la tecnica de transfer learning.\n",
        "*   Construir una red neuronal de tipo autoencoder para la eliminación de ruido en imagenes.\n",
        "\n"
      ]
    },
    {
      "cell_type": "markdown",
      "metadata": {
        "id": "RZzI0TEtoQKN",
        "colab_type": "text"
      },
      "source": [
        "## Taller\n",
        "## Segundo Problema\n"
      ]
    },
    {
      "cell_type": "markdown",
      "metadata": {
        "id": "whCqblnhodDq",
        "colab_type": "text"
      },
      "source": [
        "Utilice el conjunto de datos Fashion-MNIST para construir un clasificador de imágenes de productos. Para la construcción del modelo utilice los tres esquemas que se describen a continuación y compare los resultados:\n",
        "<ol type=\"a\">\n",
        "  <li>Entrenamiento de un perceptrón multicapa.</li>\n",
        "  <li>Entrenamiento de un undercompleted autoencoder para realizar una reducción de la dimensionalidad. Sobre el nuevo conjunto de características construya el modelo de clasificación con un perceptrón multicapa.</li>\n",
        "  <li>Entrenamiento de un denoising autoendoder para preentrenar una red profunda. Reuse las primeras capas de este autoencoder para construir un perceptron multicapa (con solo el 10% de los datos).</li>\n",
        "</ol>\n",
        "\n",
        "Para los puntos b) y c) compruebe, y muestre con ejemplos, que las imágenes están bien reconstruidas.\n",
        "\n"
      ]
    },
    {
      "cell_type": "markdown",
      "metadata": {
        "id": "ZSTJi8iWcTAB",
        "colab_type": "text"
      },
      "source": [
        "### 1. Importando las librerias requeridas para el desarrollo del laboratorio\n"
      ]
    },
    {
      "cell_type": "code",
      "metadata": {
        "id": "P6ScRe1oQoS5",
        "colab_type": "code",
        "colab": {
          "base_uri": "https://localhost:8080/"
        },
        "outputId": "7fdad11b-fd72-43a5-b69e-24ed749b168d"
      },
      "source": [
        "import pandas as pd\n",
        "import numpy as np\n",
        "import os\n",
        "import os.path as osp\n",
        "import joblib\n",
        "from pandas_profiling import ProfileReport\n",
        "\n",
        "from google.colab import files\n",
        "\n",
        "from sklearn.model_selection import train_test_split, RandomizedSearchCV\n",
        "from sklearn.pipeline import Pipeline\n",
        "from sklearn.metrics import classification_report, confusion_matrix, plot_precision_recall_curve\n",
        "\n",
        "from keras.wrappers.scikit_learn import KerasClassifier\n",
        "\n",
        "import tensorflow as tf\n",
        "from tensorflow.keras.datasets import reuters\n",
        "from tensorflow.keras.models import Sequential, Model, load_model\n",
        "from tensorflow.keras.layers import Dense, Dropout, Activation, Input\n",
        "from tensorflow.keras.preprocessing.text import Tokenizer\n",
        "from tensorflow.keras.callbacks import ModelCheckpoint, EarlyStopping\n",
        "from keras.datasets import fashion_mnist\n",
        "\n",
        "import matplotlib.pyplot as plt\n",
        "%matplotlib inline"
      ],
      "execution_count": null,
      "outputs": [
        {
          "output_type": "stream",
          "text": [
            "Using TensorFlow backend.\n"
          ],
          "name": "stderr"
        }
      ]
    },
    {
      "cell_type": "markdown",
      "metadata": {
        "id": "ZPg_tCo9q-Y1",
        "colab_type": "text"
      },
      "source": [
        "### 2. Perfilamiento y entendimiento de los datos"
      ]
    },
    {
      "cell_type": "markdown",
      "metadata": {
        "id": "pgzd4WpEc0wH",
        "colab_type": "text"
      },
      "source": [
        "\n",
        "Primero se grafican las dos primeras imagenes de entrenamiento y test para ver que fue cargada correctamente."
      ]
    },
    {
      "cell_type": "code",
      "metadata": {
        "id": "DjCi__YBbmzY",
        "colab_type": "code",
        "colab": {
          "base_uri": "https://localhost:8080/"
        },
        "outputId": "5e8e7eb1-20d7-4392-eaf5-02346327bde8"
      },
      "source": [
        "((trainX, trainY), (testX, testY)) = fashion_mnist.load_data()\n",
        "print(trainX.shape)\n",
        "print(trainY.shape)"
      ],
      "execution_count": null,
      "outputs": [
        {
          "output_type": "stream",
          "text": [
            "Downloading data from http://fashion-mnist.s3-website.eu-central-1.amazonaws.com/train-labels-idx1-ubyte.gz\n",
            "32768/29515 [=================================] - 0s 4us/step\n",
            "Downloading data from http://fashion-mnist.s3-website.eu-central-1.amazonaws.com/train-images-idx3-ubyte.gz\n",
            "26427392/26421880 [==============================] - 2s 0us/step\n",
            "Downloading data from http://fashion-mnist.s3-website.eu-central-1.amazonaws.com/t10k-labels-idx1-ubyte.gz\n",
            "8192/5148 [===============================================] - 0s 0us/step\n",
            "Downloading data from http://fashion-mnist.s3-website.eu-central-1.amazonaws.com/t10k-images-idx3-ubyte.gz\n",
            "4423680/4422102 [==============================] - 1s 0us/step\n",
            "(60000, 28, 28)\n",
            "(60000,)\n"
          ],
          "name": "stdout"
        }
      ]
    },
    {
      "cell_type": "markdown",
      "metadata": {
        "id": "fk_FaW8AxaEN",
        "colab_type": "text"
      },
      "source": [
        "Como se muestra en la [Doocumentación de keras](https://keras.io/api/datasets/fashion_mnist/), se encuentran 10 tipos de clases a analizar. Las clases son:\n",
        "\n",
        "| Label | Description   |\n",
        "|------|------|\n",
        "|0\t|T-shirt/top|\n",
        "|1\t|Trouser|\n",
        "|2\t|Pullover|\n",
        "|3\t|Dress|\n",
        "|4\t|Coat|\n",
        "|5\t|Sandal|\n",
        "|6\t|Shirt|\n",
        "|7\t|Sneaker|\n",
        "|8\t|Bag|\n",
        "|9\t|Ankle boot|"
      ]
    },
    {
      "cell_type": "code",
      "metadata": {
        "id": "t-lwJ5zwBlQk",
        "colab_type": "code",
        "colab": {
          "base_uri": "https://localhost:8080/"
        },
        "outputId": "90ca5fcc-555e-4fda-9e07-91f681c46d9d"
      },
      "source": [
        "class_names = ['T-shirt/top', 'Trouser', 'Pullover', 'Dress', 'Coat',\n",
        "               'Sandal', 'Shirt', 'Sneaker', 'Bag', 'Ankle boot']\n",
        "\n",
        "n = 5\n",
        "fig, axes = plt.subplots(nrows=2, ncols=n, figsize=(8, 8))\n",
        "for i in range(n):\n",
        "    # display original\n",
        "    ax = plt.subplot(2, n, i+1)\n",
        "    plt.imshow(trainX[i].reshape(28, 28),cmap='gray')\n",
        "    ax.get_xaxis().set_visible(False)\n",
        "    ax.get_yaxis().set_visible(False)\n",
        "    ax.set(title=class_names[trainY[i]])\n",
        "\n",
        "    # display reconstruction\n",
        "    ax = plt.subplot(2, n, i + 6)\n",
        "    plt.imshow(testX[i].reshape(28, 28),cmap='gray')\n",
        "    ax.get_xaxis().set_visible(False)\n",
        "    ax.get_yaxis().set_visible(False)\n",
        "    ax.set(title=class_names[testY[i]])\n",
        "\n",
        "plt.tight_layout()\n",
        "plt.show()"
      ],
      "execution_count": null,
      "outputs": [
        {
          "output_type": "display_data",
          "data": {
            "image/png": "[encoded data removed]",
            "text/plain": [
              "<Figure size 576x576 with 10 Axes>"
            ]
          },
          "metadata": {
            "tags": [],
            "needs_background": "light"
          }
        }
      ]
    },
    {
      "cell_type": "markdown",
      "metadata": {
        "id": "0xctGhNVcs3Z",
        "colab_type": "text"
      },
      "source": [
        "### 3. Preparación de datos"
      ]
    },
    {
      "cell_type": "markdown",
      "metadata": {
        "id": "RhNONyUvYWyZ",
        "colab_type": "text"
      },
      "source": [
        "Para la preparación de los datos, se realiza un redimensionamiento de los datos. Es decir, vamos a 'aplanar' las imagenes para poder construir la capa de entrada. Además, para facilidad del modelo, vamos a normalizar la entrada."
      ]
    },
    {
      "cell_type": "code",
      "metadata": {
        "id": "sJxwbH_JBlQo",
        "colab_type": "code",
        "colab": {
          "base_uri": "https://localhost:8080/"
        },
        "outputId": "6f9405aa-4bb4-406f-da35-5937850c0cae"
      },
      "source": [
        "X_train , X_test = np.reshape(trainX,(trainX.shape[0],trainX.shape[1]*trainX.shape[2]))/255 , np.reshape(testX,(testX.shape[0],testX.shape[1]*testX.shape[2]))/255\n",
        "\n",
        "Y_train, Y_test = np.array(trainY,dtype=np.float32), np.array(testY,dtype=np.float32) \n",
        "\n",
        "print(\"Dimensiones de X\",X_train.shape,\"Dimensiones de Y\",Y_train.shape,sep=\"\\n\")"
      ],
      "execution_count": null,
      "outputs": [
        {
          "output_type": "stream",
          "text": [
            "Dimensiones de X\n",
            "(60000, 784)\n",
            "Dimensiones de Y\n",
            "(60000,)\n"
          ],
          "name": "stdout"
        }
      ]
    },
    {
      "cell_type": "markdown",
      "metadata": {
        "colab_type": "text",
        "id": "X3E8rm6K_AaV"
      },
      "source": [
        "### 4. Modelamiento"
      ]
    },
    {
      "cell_type": "markdown",
      "metadata": {
        "id": "9t40kuI92tM6",
        "colab_type": "text"
      },
      "source": [
        "#### Perceptron Multicapa"
      ]
    },
    {
      "cell_type": "markdown",
      "metadata": {
        "id": "vS_0hWWIY8eQ",
        "colab_type": "text"
      },
      "source": [
        "Para obtener el mejor modelo, se realizan 30 iteraciones aleatorias entre los parámetros para obtener un buen modelo para predecir. Entre los hiperparámetros a buscar se realizará el número de capas, el número de neuronas en cada capa, la activación de la capa oculta, y el porcentaje de Dropout. "
      ]
    },
    {
      "cell_type": "code",
      "metadata": {
        "id": "sDz6zg8kzFGz",
        "colab_type": "code",
        "colab": {}
      },
      "source": [
        "def entrenarClasificador(nn1 = 512, nn2 = 100, nn3 = 32, n_layers= 2, dropout = 0.1, \n",
        "                         activacion_oculta = 'relu', input = 784):\n",
        "    clf = Sequential(name='Mi_Red')\n",
        "    nn = [nn1,nn2,nn3]\n",
        "    clf.add(Input(shape=(input,),name='Capa_Entrada'))\n",
        "\n",
        "    for i in range(n_layers):\n",
        "        clf.add(Dense(nn[i], activation=activacion_oculta, name = 'Capa_Oculta_{0}__{1}'.format(i,nn2)))\n",
        "    \n",
        "        clf.add(Dropout(dropout,name='Dropout__{0}__{1}'.format(i,dropout)))\n",
        "    \n",
        "    clf.add(Dense(len(class_names), activation='sigmoid', name= 'Capa_Salida'))\n",
        "    clf.compile(loss='sparse_categorical_crossentropy', optimizer='adam', metrics=['accuracy'])\n",
        "    return clf\n",
        "\n",
        "# Modelo que utiliza el GridSearch\n",
        "modelCV = KerasClassifier(build_fn=entrenarClasificador, epochs=25, batch_size=100, verbose=0,shuffle = True)\n"
      ],
      "execution_count": null,
      "outputs": []
    },
    {
      "cell_type": "code",
      "metadata": {
        "id": "rSnKwF4F0PLN",
        "colab_type": "code",
        "colab": {
          "base_uri": "https://localhost:8080/",
          "height": 1000
        },
        "outputId": "1547a7fe-3b09-48ce-d651-af9466b294bf"
      },
      "source": [
        "param_grid = dict(nn1 = [512, 256, 128],\n",
        "                  nn2 = [256, 128, 64],\n",
        "                  nn3 = [128, 64, 32],\n",
        "                  n_layers = [1,2,3],\n",
        "                  dropout = [0.1,0.25,0.5],\n",
        "                  activacion_oculta = ['relu','sigmoid','tanh']\n",
        "                  )\n",
        "\n",
        "grid = RandomizedSearchCV(modelCV,param_grid,scoring='accuracy',verbose=20,n_jobs=-1,cv = 5,n_iter=30,random_state=20)\n",
        "\n",
        "grid.fit(X_train,Y_train)\n",
        "\n",
        "best_classifier = grid.best_estimator_"
      ],
      "execution_count": null,
      "outputs": [
        {
          "output_type": "stream",
          "text": [
            "Fitting 5 folds for each of 30 candidates, totalling 150 fits\n"
          ],
          "name": "stdout"
        },
        {
          "output_type": "stream",
          "text": [
            "[Parallel(n_jobs=-1)]: Using backend LokyBackend with 2 concurrent workers.\n",
            "[Parallel(n_jobs=-1)]: Done   1 tasks      | elapsed:  2.6min\n",
            "[Parallel(n_jobs=-1)]: Done   2 tasks      | elapsed:  2.6min\n",
            "[Parallel(n_jobs=-1)]: Done   3 tasks      | elapsed:  5.1min\n",
            "[Parallel(n_jobs=-1)]: Done   4 tasks      | elapsed:  5.2min\n",
            "[Parallel(n_jobs=-1)]: Done   5 tasks      | elapsed:  6.4min\n",
            "[Parallel(n_jobs=-1)]: Done   6 tasks      | elapsed:  7.6min\n",
            "[Parallel(n_jobs=-1)]: Done   7 tasks      | elapsed:  7.7min\n",
            "[Parallel(n_jobs=-1)]: Done   8 tasks      | elapsed:  8.9min\n",
            "[Parallel(n_jobs=-1)]: Done   9 tasks      | elapsed:  9.0min\n",
            "[Parallel(n_jobs=-1)]: Done  10 tasks      | elapsed:  9.7min\n",
            "/usr/local/lib/python3.6/dist-packages/joblib/externals/loky/process_executor.py:691: UserWarning: A worker stopped while some jobs were given to the executor. This can be caused by a too short worker timeout or by a memory leak.\n",
            "  \"timeout or by a memory leak.\", UserWarning\n",
            "[Parallel(n_jobs=-1)]: Done  11 tasks      | elapsed: 10.1min\n",
            "[Parallel(n_jobs=-1)]: Done  12 tasks      | elapsed: 10.4min\n",
            "[Parallel(n_jobs=-1)]: Done  13 tasks      | elapsed: 10.9min\n",
            "[Parallel(n_jobs=-1)]: Done  14 tasks      | elapsed: 11.1min\n",
            "[Parallel(n_jobs=-1)]: Done  15 tasks      | elapsed: 11.6min\n",
            "[Parallel(n_jobs=-1)]: Done  16 tasks      | elapsed: 12.1min\n",
            "[Parallel(n_jobs=-1)]: Done  17 tasks      | elapsed: 12.6min\n",
            "[Parallel(n_jobs=-1)]: Done  18 tasks      | elapsed: 13.2min\n",
            "[Parallel(n_jobs=-1)]: Done  19 tasks      | elapsed: 13.7min\n",
            "[Parallel(n_jobs=-1)]: Done  20 tasks      | elapsed: 14.3min\n",
            "[Parallel(n_jobs=-1)]: Done  21 tasks      | elapsed: 14.8min\n",
            "[Parallel(n_jobs=-1)]: Done  22 tasks      | elapsed: 15.4min\n",
            "[Parallel(n_jobs=-1)]: Done  23 tasks      | elapsed: 15.9min\n",
            "[Parallel(n_jobs=-1)]: Done  24 tasks      | elapsed: 16.4min\n",
            "[Parallel(n_jobs=-1)]: Done  25 tasks      | elapsed: 16.9min\n",
            "[Parallel(n_jobs=-1)]: Done  26 tasks      | elapsed: 17.1min\n",
            "[Parallel(n_jobs=-1)]: Done  27 tasks      | elapsed: 17.6min\n",
            "[Parallel(n_jobs=-1)]: Done  28 tasks      | elapsed: 17.8min\n",
            "[Parallel(n_jobs=-1)]: Done  29 tasks      | elapsed: 18.3min\n",
            "[Parallel(n_jobs=-1)]: Done  30 tasks      | elapsed: 18.5min\n",
            "[Parallel(n_jobs=-1)]: Done  31 tasks      | elapsed: 19.2min\n",
            "[Parallel(n_jobs=-1)]: Done  32 tasks      | elapsed: 19.4min\n",
            "[Parallel(n_jobs=-1)]: Done  33 tasks      | elapsed: 20.2min\n",
            "[Parallel(n_jobs=-1)]: Done  34 tasks      | elapsed: 20.4min\n",
            "[Parallel(n_jobs=-1)]: Done  35 tasks      | elapsed: 21.1min\n",
            "[Parallel(n_jobs=-1)]: Done  36 tasks      | elapsed: 21.5min\n",
            "[Parallel(n_jobs=-1)]: Done  37 tasks      | elapsed: 22.1min\n",
            "[Parallel(n_jobs=-1)]: Done  38 tasks      | elapsed: 22.5min\n",
            "[Parallel(n_jobs=-1)]: Done  39 tasks      | elapsed: 23.3min\n",
            "[Parallel(n_jobs=-1)]: Done  40 tasks      | elapsed: 23.6min\n",
            "[Parallel(n_jobs=-1)]: Done  41 tasks      | elapsed: 24.4min\n",
            "[Parallel(n_jobs=-1)]: Done  42 tasks      | elapsed: 24.7min\n",
            "[Parallel(n_jobs=-1)]: Done  43 tasks      | elapsed: 25.6min\n",
            "[Parallel(n_jobs=-1)]: Done  44 tasks      | elapsed: 26.0min\n",
            "[Parallel(n_jobs=-1)]: Done  45 tasks      | elapsed: 26.7min\n",
            "[Parallel(n_jobs=-1)]: Done  46 tasks      | elapsed: 27.6min\n",
            "[Parallel(n_jobs=-1)]: Done  47 tasks      | elapsed: 28.5min\n",
            "[Parallel(n_jobs=-1)]: Done  48 tasks      | elapsed: 29.3min\n",
            "[Parallel(n_jobs=-1)]: Done  49 tasks      | elapsed: 30.3min\n",
            "[Parallel(n_jobs=-1)]: Done  50 tasks      | elapsed: 31.0min\n",
            "[Parallel(n_jobs=-1)]: Done  51 tasks      | elapsed: 31.4min\n",
            "[Parallel(n_jobs=-1)]: Done  52 tasks      | elapsed: 32.2min\n",
            "[Parallel(n_jobs=-1)]: Done  53 tasks      | elapsed: 32.5min\n",
            "[Parallel(n_jobs=-1)]: Done  54 tasks      | elapsed: 33.3min\n",
            "[Parallel(n_jobs=-1)]: Done  55 tasks      | elapsed: 33.6min\n",
            "[Parallel(n_jobs=-1)]: Done  56 tasks      | elapsed: 34.3min\n",
            "[Parallel(n_jobs=-1)]: Done  57 tasks      | elapsed: 34.7min\n",
            "[Parallel(n_jobs=-1)]: Done  58 tasks      | elapsed: 35.4min\n",
            "[Parallel(n_jobs=-1)]: Done  59 tasks      | elapsed: 35.7min\n",
            "[Parallel(n_jobs=-1)]: Done  60 tasks      | elapsed: 36.5min\n",
            "[Parallel(n_jobs=-1)]: Done  61 tasks      | elapsed: 38.3min\n",
            "[Parallel(n_jobs=-1)]: Done  62 tasks      | elapsed: 39.1min\n",
            "[Parallel(n_jobs=-1)]: Done  63 tasks      | elapsed: 40.9min\n",
            "[Parallel(n_jobs=-1)]: Done  64 tasks      | elapsed: 41.6min\n",
            "[Parallel(n_jobs=-1)]: Done  65 tasks      | elapsed: 42.9min\n",
            "[Parallel(n_jobs=-1)]: Done  66 tasks      | elapsed: 43.4min\n",
            "[Parallel(n_jobs=-1)]: Done  67 tasks      | elapsed: 44.2min\n",
            "[Parallel(n_jobs=-1)]: Done  68 tasks      | elapsed: 44.6min\n",
            "[Parallel(n_jobs=-1)]: Done  69 tasks      | elapsed: 45.4min\n",
            "[Parallel(n_jobs=-1)]: Done  70 tasks      | elapsed: 45.8min\n",
            "[Parallel(n_jobs=-1)]: Done  71 tasks      | elapsed: 46.5min\n",
            "[Parallel(n_jobs=-1)]: Done  72 tasks      | elapsed: 46.9min\n",
            "[Parallel(n_jobs=-1)]: Done  73 tasks      | elapsed: 47.5min\n",
            "[Parallel(n_jobs=-1)]: Done  74 tasks      | elapsed: 48.0min\n",
            "[Parallel(n_jobs=-1)]: Done  75 tasks      | elapsed: 48.5min\n",
            "[Parallel(n_jobs=-1)]: Done  76 tasks      | elapsed: 49.0min\n",
            "[Parallel(n_jobs=-1)]: Done  77 tasks      | elapsed: 49.6min\n",
            "[Parallel(n_jobs=-1)]: Done  78 tasks      | elapsed: 50.0min\n",
            "[Parallel(n_jobs=-1)]: Done  79 tasks      | elapsed: 50.7min\n",
            "[Parallel(n_jobs=-1)]: Done  80 tasks      | elapsed: 51.1min\n",
            "[Parallel(n_jobs=-1)]: Done  81 tasks      | elapsed: 51.8min\n",
            "[Parallel(n_jobs=-1)]: Done  82 tasks      | elapsed: 52.2min\n",
            "[Parallel(n_jobs=-1)]: Done  83 tasks      | elapsed: 52.8min\n",
            "[Parallel(n_jobs=-1)]: Done  84 tasks      | elapsed: 53.3min\n",
            "[Parallel(n_jobs=-1)]: Done  85 tasks      | elapsed: 53.9min\n",
            "[Parallel(n_jobs=-1)]: Done  86 tasks      | elapsed: 55.2min\n",
            "[Parallel(n_jobs=-1)]: Done  87 tasks      | elapsed: 55.9min\n",
            "[Parallel(n_jobs=-1)]: Done  88 tasks      | elapsed: 57.2min\n",
            "[Parallel(n_jobs=-1)]: Done  89 tasks      | elapsed: 57.8min\n",
            "[Parallel(n_jobs=-1)]: Done  90 tasks      | elapsed: 58.8min\n",
            "[Parallel(n_jobs=-1)]: Done  91 tasks      | elapsed: 59.1min\n",
            "[Parallel(n_jobs=-1)]: Done  92 tasks      | elapsed: 59.9min\n",
            "[Parallel(n_jobs=-1)]: Done  93 tasks      | elapsed: 60.2min\n",
            "[Parallel(n_jobs=-1)]: Done  94 tasks      | elapsed: 61.0min\n",
            "[Parallel(n_jobs=-1)]: Done  95 tasks      | elapsed: 61.2min\n",
            "[Parallel(n_jobs=-1)]: Done  96 tasks      | elapsed: 63.5min\n",
            "[Parallel(n_jobs=-1)]: Done  97 tasks      | elapsed: 63.7min\n",
            "[Parallel(n_jobs=-1)]: Done  98 tasks      | elapsed: 66.0min\n",
            "[Parallel(n_jobs=-1)]: Done  99 tasks      | elapsed: 66.3min\n",
            "[Parallel(n_jobs=-1)]: Done 100 tasks      | elapsed: 67.6min\n",
            "[Parallel(n_jobs=-1)]: Done 101 tasks      | elapsed: 68.4min\n",
            "[Parallel(n_jobs=-1)]: Done 102 tasks      | elapsed: 68.8min\n",
            "[Parallel(n_jobs=-1)]: Done 103 tasks      | elapsed: 69.7min\n",
            "[Parallel(n_jobs=-1)]: Done 104 tasks      | elapsed: 70.1min\n",
            "[Parallel(n_jobs=-1)]: Done 105 tasks      | elapsed: 71.0min\n",
            "[Parallel(n_jobs=-1)]: Done 106 tasks      | elapsed: 72.3min\n",
            "[Parallel(n_jobs=-1)]: Done 107 tasks      | elapsed: 73.2min\n",
            "[Parallel(n_jobs=-1)]: Done 108 tasks      | elapsed: 74.5min\n",
            "[Parallel(n_jobs=-1)]: Done 109 tasks      | elapsed: 75.3min\n",
            "[Parallel(n_jobs=-1)]: Done 110 tasks      | elapsed: 76.6min\n",
            "[Parallel(n_jobs=-1)]: Done 111 tasks      | elapsed: 76.7min\n",
            "[Parallel(n_jobs=-1)]: Done 112 tasks      | elapsed: 77.9min\n",
            "[Parallel(n_jobs=-1)]: Done 113 tasks      | elapsed: 78.0min\n",
            "[Parallel(n_jobs=-1)]: Done 114 tasks      | elapsed: 79.2min\n",
            "[Parallel(n_jobs=-1)]: Done 115 tasks      | elapsed: 79.3min\n",
            "[Parallel(n_jobs=-1)]: Done 116 tasks      | elapsed: 80.2min\n",
            "[Parallel(n_jobs=-1)]: Done 117 tasks      | elapsed: 80.2min\n",
            "[Parallel(n_jobs=-1)]: Done 118 tasks      | elapsed: 81.1min\n",
            "[Parallel(n_jobs=-1)]: Done 119 tasks      | elapsed: 81.2min\n",
            "[Parallel(n_jobs=-1)]: Done 120 tasks      | elapsed: 82.1min\n",
            "[Parallel(n_jobs=-1)]: Done 121 tasks      | elapsed: 82.4min\n",
            "[Parallel(n_jobs=-1)]: Done 122 tasks      | elapsed: 83.3min\n",
            "[Parallel(n_jobs=-1)]: Done 123 tasks      | elapsed: 83.6min\n",
            "[Parallel(n_jobs=-1)]: Done 124 tasks      | elapsed: 84.5min\n",
            "[Parallel(n_jobs=-1)]: Done 125 tasks      | elapsed: 84.8min\n",
            "[Parallel(n_jobs=-1)]: Done 126 tasks      | elapsed: 85.6min\n",
            "[Parallel(n_jobs=-1)]: Done 127 tasks      | elapsed: 85.9min\n",
            "[Parallel(n_jobs=-1)]: Done 128 tasks      | elapsed: 86.7min\n",
            "[Parallel(n_jobs=-1)]: Done 129 tasks      | elapsed: 87.0min\n",
            "[Parallel(n_jobs=-1)]: Done 130 tasks      | elapsed: 87.7min\n",
            "[Parallel(n_jobs=-1)]: Done 131 tasks      | elapsed: 89.2min\n",
            "[Parallel(n_jobs=-1)]: Done 132 tasks      | elapsed: 89.9min\n",
            "[Parallel(n_jobs=-1)]: Done 133 tasks      | elapsed: 91.3min\n",
            "[Parallel(n_jobs=-1)]: Done 134 tasks      | elapsed: 92.2min\n",
            "[Parallel(n_jobs=-1)]: Done 135 tasks      | elapsed: 93.5min\n",
            "[Parallel(n_jobs=-1)]: Done 136 tasks      | elapsed: 93.5min\n",
            "[Parallel(n_jobs=-1)]: Done 137 tasks      | elapsed: 94.7min\n",
            "[Parallel(n_jobs=-1)]: Done 138 tasks      | elapsed: 94.8min\n",
            "[Parallel(n_jobs=-1)]: Done 139 tasks      | elapsed: 96.1min\n",
            "[Parallel(n_jobs=-1)]: Done 140 tasks      | elapsed: 96.2min\n",
            "[Parallel(n_jobs=-1)]: Done 141 tasks      | elapsed: 98.1min\n",
            "[Parallel(n_jobs=-1)]: Done 142 tasks      | elapsed: 98.1min\n",
            "[Parallel(n_jobs=-1)]: Done 143 tasks      | elapsed: 100.1min\n",
            "[Parallel(n_jobs=-1)]: Done 144 tasks      | elapsed: 100.2min\n",
            "[Parallel(n_jobs=-1)]: Done 145 tasks      | elapsed: 101.7min\n",
            "[Parallel(n_jobs=-1)]: Done 146 tasks      | elapsed: 102.1min\n",
            "[Parallel(n_jobs=-1)]: Done 147 tasks      | elapsed: 103.3min\n",
            "[Parallel(n_jobs=-1)]: Done 150 out of 150 | elapsed: 105.2min finished\n"
          ],
          "name": "stderr"
        }
      ]
    },
    {
      "cell_type": "code",
      "metadata": {
        "id": "QAafbzGyaI7w",
        "colab_type": "code",
        "colab": {
          "base_uri": "https://localhost:8080/",
          "height": 289
        },
        "outputId": "99fccb45-3ee9-407b-9358-54b5b5e26d95"
      },
      "source": [
        "best_classifier.model.save('best_classifier.h5')\n",
        "\n",
        "#Esto solo sirve si estoy en Google Collab\n",
        "files.download('best_classifier.h5') \n",
        "\n",
        "print(best_classifier.model.summary())"
      ],
      "execution_count": null,
      "outputs": [
        {
          "output_type": "display_data",
          "data": {
            "application/javascript": [
              "\n",
              "    async function download(id, filename, size) {\n",
              "      if (!google.colab.kernel.accessAllowed) {\n",
              "        return;\n",
              "      }\n",
              "      const div = document.createElement('div');\n",
              "      const label = document.createElement('label');\n",
              "      label.textContent = `Downloading \"${filename}\": `;\n",
              "      div.appendChild(label);\n",
              "      const progress = document.createElement('progress');\n",
              "      progress.max = size;\n",
              "      div.appendChild(progress);\n",
              "      document.body.appendChild(div);\n",
              "\n",
              "      const buffers = [];\n",
              "      let downloaded = 0;\n",
              "\n",
              "      const channel = await google.colab.kernel.comms.open(id);\n",
              "      // Send a message to notify the kernel that we're ready.\n",
              "      channel.send({})\n",
              "\n",
              "      for await (const message of channel.messages) {\n",
              "        // Send a message to notify the kernel that we're ready.\n",
              "        channel.send({})\n",
              "        if (message.buffers) {\n",
              "          for (const buffer of message.buffers) {\n",
              "            buffers.push(buffer);\n",
              "            downloaded += buffer.byteLength;\n",
              "            progress.value = downloaded;\n",
              "          }\n",
              "        }\n",
              "      }\n",
              "      const blob = new Blob(buffers, {type: 'application/binary'});\n",
              "      const a = document.createElement('a');\n",
              "      a.href = window.URL.createObjectURL(blob);\n",
              "      a.download = filename;\n",
              "      div.appendChild(a);\n",
              "      a.click();\n",
              "      div.remove();\n",
              "    }\n",
              "  "
            ],
            "text/plain": [
              "<IPython.core.display.Javascript object>"
            ]
          },
          "metadata": {
            "tags": []
          }
        },
        {
          "output_type": "display_data",
          "data": {
            "application/javascript": [
              "download(\"download_030ac864-d694-48ca-aa30-c607cbeec6ab\", \"best_classifier.h5\", 2468152)"
            ],
            "text/plain": [
              "<IPython.core.display.Javascript object>"
            ]
          },
          "metadata": {
            "tags": []
          }
        },
        {
          "output_type": "stream",
          "text": [
            "Model: \"Mi_Red\"\n",
            "_________________________________________________________________\n",
            "Layer (type)                 Output Shape              Param #   \n",
            "=================================================================\n",
            "Capa_Oculta_0__128 (Dense)   (None, 256)               200960    \n",
            "_________________________________________________________________\n",
            "Dropout__0__0.1 (Dropout)    (None, 256)               0         \n",
            "_________________________________________________________________\n",
            "Capa_Salida (Dense)          (None, 10)                2570      \n",
            "=================================================================\n",
            "Total params: 203,530\n",
            "Trainable params: 203,530\n",
            "Non-trainable params: 0\n",
            "_________________________________________________________________\n",
            "None\n"
          ],
          "name": "stdout"
        }
      ]
    },
    {
      "cell_type": "markdown",
      "metadata": {
        "colab_type": "text",
        "id": "FtOu8BnWAZID"
      },
      "source": [
        "#### Undercompleted Autoencoder"
      ]
    },
    {
      "cell_type": "markdown",
      "metadata": {
        "colab_type": "text",
        "id": "PaRifon8AZIF"
      },
      "source": [
        "Primero, se evalua un autoencoder bajo la arquitectura de un Undercomplete para reducción de la dimensionalidad. Para ello, vamos a construir un autoencoder con 512 neruonas."
      ]
    },
    {
      "cell_type": "code",
      "metadata": {
        "colab_type": "code",
        "id": "8K17PaZ2AZIF",
        "colab": {
          "base_uri": "https://localhost:8080/",
          "height": 697
        },
        "outputId": "3a2116d5-86b3-47c1-d632-fef6ef3ff32e"
      },
      "source": [
        "autoencoder = Sequential(name='Udercomplete_Autoencoder')\n",
        "\n",
        "#Input image\n",
        "autoencoder.add(Input(shape=(784,),name='Capa_Entrada'))\n",
        "autoencoder.add(Dense(units=512, activation='relu',name='encoded-1'))\n",
        "autoencoder.add(Dense(units=784, activation='sigmoid',name='decoded-1'))\n",
        "\n",
        "# compiling the autoencoder\n",
        "autoencoder.compile(optimizer='adam', loss='binary_crossentropy', metrics=['accuracy', 'mse'])\n",
        "# Fitting the data to the autoencoder \n",
        "autoencoder.fit(X_train, X_train, epochs=20, batch_size=10)\n",
        "X_rec = autoencoder.predict(X_train)\n"
      ],
      "execution_count": null,
      "outputs": [
        {
          "output_type": "stream",
          "text": [
            "Epoch 1/20\n",
            "6000/6000 [==============================] - 31s 5ms/step - loss: 0.2747 - accuracy: 0.0523 - mse: 0.0105\n",
            "Epoch 2/20\n",
            "6000/6000 [==============================] - 32s 5ms/step - loss: 0.2567 - accuracy: 0.1096 - mse: 0.0045\n",
            "Epoch 3/20\n",
            "6000/6000 [==============================] - 32s 5ms/step - loss: 0.2538 - accuracy: 0.1477 - mse: 0.0036\n",
            "Epoch 4/20\n",
            "6000/6000 [==============================] - 31s 5ms/step - loss: 0.2525 - accuracy: 0.1677 - mse: 0.0032\n",
            "Epoch 5/20\n",
            "6000/6000 [==============================] - 32s 5ms/step - loss: 0.2517 - accuracy: 0.1840 - mse: 0.0030\n",
            "Epoch 6/20\n",
            "6000/6000 [==============================] - 32s 5ms/step - loss: 0.2513 - accuracy: 0.1917 - mse: 0.0028\n",
            "Epoch 7/20\n",
            "6000/6000 [==============================] - 33s 6ms/step - loss: 0.2510 - accuracy: 0.1963 - mse: 0.0027\n",
            "Epoch 8/20\n",
            "6000/6000 [==============================] - 33s 6ms/step - loss: 0.2507 - accuracy: 0.2028 - mse: 0.0027\n",
            "Epoch 9/20\n",
            "6000/6000 [==============================] - 32s 5ms/step - loss: 0.2506 - accuracy: 0.2045 - mse: 0.0026\n",
            "Epoch 10/20\n",
            "6000/6000 [==============================] - 32s 5ms/step - loss: 0.2504 - accuracy: 0.2100 - mse: 0.0026\n",
            "Epoch 11/20\n",
            "6000/6000 [==============================] - 33s 5ms/step - loss: 0.2504 - accuracy: 0.2117 - mse: 0.0026\n",
            "Epoch 12/20\n",
            "6000/6000 [==============================] - 33s 5ms/step - loss: 0.2502 - accuracy: 0.2137 - mse: 0.0025\n",
            "Epoch 13/20\n",
            "6000/6000 [==============================] - 32s 5ms/step - loss: 0.2502 - accuracy: 0.2154 - mse: 0.0025\n",
            "Epoch 14/20\n",
            "6000/6000 [==============================] - 33s 5ms/step - loss: 0.2501 - accuracy: 0.2159 - mse: 0.0025\n",
            "Epoch 15/20\n",
            "6000/6000 [==============================] - 32s 5ms/step - loss: 0.2501 - accuracy: 0.2163 - mse: 0.0025\n",
            "Epoch 16/20\n",
            "6000/6000 [==============================] - 32s 5ms/step - loss: 0.2500 - accuracy: 0.2185 - mse: 0.0025\n",
            "Epoch 17/20\n",
            "6000/6000 [==============================] - 33s 5ms/step - loss: 0.2500 - accuracy: 0.2168 - mse: 0.0025\n",
            "Epoch 18/20\n",
            "6000/6000 [==============================] - 34s 6ms/step - loss: 0.2499 - accuracy: 0.2199 - mse: 0.0025\n",
            "Epoch 19/20\n",
            "6000/6000 [==============================] - 33s 5ms/step - loss: 0.2499 - accuracy: 0.2218 - mse: 0.0024\n",
            "Epoch 20/20\n",
            "6000/6000 [==============================] - 32s 5ms/step - loss: 0.2498 - accuracy: 0.2192 - mse: 0.0024\n"
          ],
          "name": "stdout"
        }
      ]
    },
    {
      "cell_type": "code",
      "metadata": {
        "id": "QwnLXFen2Uvd",
        "colab_type": "code",
        "colab": {
          "base_uri": "https://localhost:8080/",
          "height": 221
        },
        "outputId": "fba0f2e7-11d3-4132-bdb9-602814726405"
      },
      "source": [
        "encoder =Model(autoencoder.layers[0].input,autoencoder.layers[-1].input,name='Udercomplete_Encoder')\n",
        "for layer in encoder.layers:\n",
        "  layer.trainable = False\n",
        "  \n",
        "X_enc = encoder.predict(X_train)\n",
        "encoder.summary()"
      ],
      "execution_count": null,
      "outputs": [
        {
          "output_type": "stream",
          "text": [
            "Model: \"Udercomplete_Encoder\"\n",
            "_________________________________________________________________\n",
            "Layer (type)                 Output Shape              Param #   \n",
            "=================================================================\n",
            "Capa_Entrada (InputLayer)    [(None, 784)]             0         \n",
            "_________________________________________________________________\n",
            "encoded-1 (Dense)            (None, 512)               401920    \n",
            "=================================================================\n",
            "Total params: 401,920\n",
            "Trainable params: 0\n",
            "Non-trainable params: 401,920\n",
            "_________________________________________________________________\n"
          ],
          "name": "stdout"
        }
      ]
    },
    {
      "cell_type": "code",
      "metadata": {
        "id": "MxBXfORrpy0z",
        "colab_type": "code",
        "colab": {
          "base_uri": "https://localhost:8080/",
          "height": 495
        },
        "outputId": "97d21c2e-c66d-4089-acc2-a08fcf6b6319"
      },
      "source": [
        "n = 5\n",
        "fig, axes = plt.subplots(nrows=3, ncols=n, figsize=(8, 8))\n",
        "for i in range(n):\n",
        "    # display original\n",
        "    ax = plt.subplot(3, n, i+1)\n",
        "    plt.imshow(X_train[i].reshape(28, 28),cmap='gray')\n",
        "    ax.get_xaxis().set_visible(False)\n",
        "    ax.get_yaxis().set_visible(False)\n",
        "\n",
        "    # display encoded\n",
        "    ax = plt.subplot(3, n, i + n+1)\n",
        "    plt.imshow(X_enc[i].reshape(32, 16),cmap='gray')\n",
        "    ax.get_xaxis().set_visible(False)\n",
        "    ax.get_yaxis().set_visible(False)\n",
        "\n",
        "    # display reconstructed\n",
        "    ax = plt.subplot(3, n, i + 2*n+1)\n",
        "    plt.imshow(X_rec[i].reshape(28, 28),cmap='gray')\n",
        "    ax.get_xaxis().set_visible(False)\n",
        "    ax.get_yaxis().set_visible(False)\n",
        "\n",
        "plt.tight_layout()\n",
        "plt.show()"
      ],
      "execution_count": null,
      "outputs": [
        {
          "output_type": "display_data",
          "data": {
            "image/png": "[encoded data removed]",
            "text/plain": [
              "<Figure size 576x576 with 15 Axes>"
            ]
          },
          "metadata": {
            "tags": [],
            "needs_background": "light"
          }
        }
      ]
    },
    {
      "cell_type": "code",
      "metadata": {
        "colab_type": "code",
        "id": "3bcBjrStAZII",
        "colab": {
          "base_uri": "https://localhost:8080/",
          "height": 1000
        },
        "outputId": "f2f328b6-743b-4c51-91aa-3c3c1d7e35ea"
      },
      "source": [
        "param_grid = dict(input = [X_enc.shape[1]],\n",
        "                  nn1 = [512, 256, 128],\n",
        "                  nn2 = [256, 128, 64],\n",
        "                  nn3 = [128, 64, 32],\n",
        "                  n_layers = [1,2,3],\n",
        "                  dropout = [0.1,0.25,0.5],\n",
        "                  activacion_oculta = ['relu','sigmoid','tanh']\n",
        "                  )\n",
        "\n",
        "grid = RandomizedSearchCV(modelCV,param_grid,scoring='accuracy',verbose=20,n_jobs=-1,cv = 5,n_iter=30,random_state=20)\n",
        "\n",
        "grid.fit(X_enc,Y_train)\n"
      ],
      "execution_count": null,
      "outputs": [
        {
          "output_type": "stream",
          "text": [
            "Fitting 5 folds for each of 30 candidates, totalling 150 fits\n"
          ],
          "name": "stdout"
        },
        {
          "output_type": "stream",
          "text": [
            "[Parallel(n_jobs=-1)]: Using backend LokyBackend with 2 concurrent workers.\n",
            "[Parallel(n_jobs=-1)]: Done   1 tasks      | elapsed:  2.3min\n",
            "[Parallel(n_jobs=-1)]: Done   2 tasks      | elapsed:  2.3min\n",
            "[Parallel(n_jobs=-1)]: Done   3 tasks      | elapsed:  4.5min\n",
            "[Parallel(n_jobs=-1)]: Done   4 tasks      | elapsed:  4.6min\n",
            "[Parallel(n_jobs=-1)]: Done   5 tasks      | elapsed:  5.8min\n",
            "[Parallel(n_jobs=-1)]: Done   6 tasks      | elapsed:  6.7min\n",
            "[Parallel(n_jobs=-1)]: Done   7 tasks      | elapsed:  7.1min\n",
            "[Parallel(n_jobs=-1)]: Done   8 tasks      | elapsed:  7.9min\n",
            "[Parallel(n_jobs=-1)]: Done   9 tasks      | elapsed:  8.3min\n",
            "[Parallel(n_jobs=-1)]: Done  10 tasks      | elapsed:  8.9min\n",
            "[Parallel(n_jobs=-1)]: Done  11 tasks      | elapsed:  9.1min\n",
            "[Parallel(n_jobs=-1)]: Done  12 tasks      | elapsed:  9.5min\n",
            "/usr/local/lib/python3.6/dist-packages/joblib/externals/loky/process_executor.py:691: UserWarning: A worker stopped while some jobs were given to the executor. This can be caused by a too short worker timeout or by a memory leak.\n",
            "  \"timeout or by a memory leak.\", UserWarning\n",
            "[Parallel(n_jobs=-1)]: Done  13 tasks      | elapsed:  9.6min\n",
            "[Parallel(n_jobs=-1)]: Done  14 tasks      | elapsed: 10.2min\n",
            "[Parallel(n_jobs=-1)]: Done  15 tasks      | elapsed: 10.4min\n",
            "[Parallel(n_jobs=-1)]: Done  16 tasks      | elapsed: 11.1min\n",
            "[Parallel(n_jobs=-1)]: Done  17 tasks      | elapsed: 11.3min\n",
            "[Parallel(n_jobs=-1)]: Done  18 tasks      | elapsed: 11.9min\n",
            "[Parallel(n_jobs=-1)]: Done  19 tasks      | elapsed: 12.1min\n",
            "[Parallel(n_jobs=-1)]: Done  20 tasks      | elapsed: 12.8min\n",
            "[Parallel(n_jobs=-1)]: Done  21 tasks      | elapsed: 13.0min\n",
            "[Parallel(n_jobs=-1)]: Done  22 tasks      | elapsed: 13.7min\n",
            "[Parallel(n_jobs=-1)]: Done  23 tasks      | elapsed: 13.9min\n",
            "[Parallel(n_jobs=-1)]: Done  24 tasks      | elapsed: 14.6min\n",
            "[Parallel(n_jobs=-1)]: Done  25 tasks      | elapsed: 14.8min\n",
            "[Parallel(n_jobs=-1)]: Done  26 tasks      | elapsed: 15.2min\n",
            "[Parallel(n_jobs=-1)]: Done  27 tasks      | elapsed: 15.4min\n",
            "[Parallel(n_jobs=-1)]: Done  28 tasks      | elapsed: 15.8min\n",
            "[Parallel(n_jobs=-1)]: Done  29 tasks      | elapsed: 16.0min\n",
            "[Parallel(n_jobs=-1)]: Done  30 tasks      | elapsed: 16.4min\n",
            "[Parallel(n_jobs=-1)]: Done  31 tasks      | elapsed: 16.8min\n",
            "[Parallel(n_jobs=-1)]: Done  32 tasks      | elapsed: 17.2min\n",
            "[Parallel(n_jobs=-1)]: Done  33 tasks      | elapsed: 17.6min\n",
            "[Parallel(n_jobs=-1)]: Done  34 tasks      | elapsed: 18.1min\n",
            "[Parallel(n_jobs=-1)]: Done  35 tasks      | elapsed: 18.5min\n",
            "[Parallel(n_jobs=-1)]: Done  36 tasks      | elapsed: 18.9min\n",
            "[Parallel(n_jobs=-1)]: Done  37 tasks      | elapsed: 19.3min\n",
            "[Parallel(n_jobs=-1)]: Done  38 tasks      | elapsed: 19.8min\n",
            "[Parallel(n_jobs=-1)]: Done  39 tasks      | elapsed: 20.2min\n",
            "[Parallel(n_jobs=-1)]: Done  40 tasks      | elapsed: 20.7min\n",
            "[Parallel(n_jobs=-1)]: Done  41 tasks      | elapsed: 21.3min\n",
            "[Parallel(n_jobs=-1)]: Done  42 tasks      | elapsed: 21.8min\n",
            "[Parallel(n_jobs=-1)]: Done  43 tasks      | elapsed: 22.3min\n",
            "[Parallel(n_jobs=-1)]: Done  44 tasks      | elapsed: 22.9min\n",
            "[Parallel(n_jobs=-1)]: Done  45 tasks      | elapsed: 23.5min\n",
            "[Parallel(n_jobs=-1)]: Done  46 tasks      | elapsed: 24.5min\n",
            "[Parallel(n_jobs=-1)]: Done  47 tasks      | elapsed: 25.1min\n",
            "[Parallel(n_jobs=-1)]: Done  48 tasks      | elapsed: 26.1min\n",
            "[Parallel(n_jobs=-1)]: Done  49 tasks      | elapsed: 26.8min\n",
            "[Parallel(n_jobs=-1)]: Done  50 tasks      | elapsed: 27.6min\n",
            "[Parallel(n_jobs=-1)]: Done  51 tasks      | elapsed: 27.8min\n",
            "[Parallel(n_jobs=-1)]: Done  52 tasks      | elapsed: 28.5min\n",
            "[Parallel(n_jobs=-1)]: Done  53 tasks      | elapsed: 28.7min\n",
            "[Parallel(n_jobs=-1)]: Done  54 tasks      | elapsed: 29.3min\n",
            "[Parallel(n_jobs=-1)]: Done  55 tasks      | elapsed: 29.5min\n",
            "[Parallel(n_jobs=-1)]: Done  56 tasks      | elapsed: 30.4min\n",
            "[Parallel(n_jobs=-1)]: Done  57 tasks      | elapsed: 30.6min\n",
            "[Parallel(n_jobs=-1)]: Done  58 tasks      | elapsed: 31.5min\n",
            "[Parallel(n_jobs=-1)]: Done  59 tasks      | elapsed: 31.7min\n",
            "[Parallel(n_jobs=-1)]: Done  60 tasks      | elapsed: 32.5min\n",
            "[Parallel(n_jobs=-1)]: Done  61 tasks      | elapsed: 33.9min\n",
            "[Parallel(n_jobs=-1)]: Done  62 tasks      | elapsed: 34.9min\n",
            "[Parallel(n_jobs=-1)]: Done  63 tasks      | elapsed: 36.1min\n",
            "[Parallel(n_jobs=-1)]: Done  64 tasks      | elapsed: 37.1min\n",
            "[Parallel(n_jobs=-1)]: Done  65 tasks      | elapsed: 38.2min\n",
            "[Parallel(n_jobs=-1)]: Done  66 tasks      | elapsed: 38.3min\n",
            "[Parallel(n_jobs=-1)]: Done  67 tasks      | elapsed: 39.5min\n",
            "[Parallel(n_jobs=-1)]: Done  68 tasks      | elapsed: 39.5min\n",
            "[Parallel(n_jobs=-1)]: Done  69 tasks      | elapsed: 40.7min\n",
            "[Parallel(n_jobs=-1)]: Done  70 tasks      | elapsed: 40.7min\n",
            "[Parallel(n_jobs=-1)]: Done  71 tasks      | elapsed: 41.8min\n",
            "[Parallel(n_jobs=-1)]: Done  72 tasks      | elapsed: 41.8min\n",
            "[Parallel(n_jobs=-1)]: Done  73 tasks      | elapsed: 42.8min\n",
            "[Parallel(n_jobs=-1)]: Done  74 tasks      | elapsed: 42.9min\n",
            "[Parallel(n_jobs=-1)]: Done  75 tasks      | elapsed: 43.9min\n",
            "[Parallel(n_jobs=-1)]: Done  76 tasks      | elapsed: 44.0min\n",
            "[Parallel(n_jobs=-1)]: Done  77 tasks      | elapsed: 44.9min\n",
            "[Parallel(n_jobs=-1)]: Done  78 tasks      | elapsed: 45.0min\n",
            "[Parallel(n_jobs=-1)]: Done  79 tasks      | elapsed: 45.9min\n",
            "[Parallel(n_jobs=-1)]: Done  80 tasks      | elapsed: 46.1min\n",
            "[Parallel(n_jobs=-1)]: Done  81 tasks      | elapsed: 47.1min\n",
            "[Parallel(n_jobs=-1)]: Done  82 tasks      | elapsed: 47.1min\n",
            "[Parallel(n_jobs=-1)]: Done  83 tasks      | elapsed: 48.1min\n",
            "[Parallel(n_jobs=-1)]: Done  84 tasks      | elapsed: 48.3min\n",
            "[Parallel(n_jobs=-1)]: Done  85 tasks      | elapsed: 49.2min\n",
            "[Parallel(n_jobs=-1)]: Done  86 tasks      | elapsed: 49.8min\n",
            "[Parallel(n_jobs=-1)]: Done  87 tasks      | elapsed: 50.8min\n",
            "[Parallel(n_jobs=-1)]: Done  88 tasks      | elapsed: 51.5min\n",
            "[Parallel(n_jobs=-1)]: Done  89 tasks      | elapsed: 52.4min\n",
            "[Parallel(n_jobs=-1)]: Done  90 tasks      | elapsed: 53.0min\n",
            "[Parallel(n_jobs=-1)]: Done  91 tasks      | elapsed: 53.4min\n",
            "[Parallel(n_jobs=-1)]: Done  92 tasks      | elapsed: 53.9min\n",
            "[Parallel(n_jobs=-1)]: Done  93 tasks      | elapsed: 54.2min\n",
            "[Parallel(n_jobs=-1)]: Done  94 tasks      | elapsed: 54.8min\n",
            "[Parallel(n_jobs=-1)]: Done  95 tasks      | elapsed: 55.1min\n",
            "[Parallel(n_jobs=-1)]: Done  96 tasks      | elapsed: 57.0min\n",
            "[Parallel(n_jobs=-1)]: Done  97 tasks      | elapsed: 57.2min\n",
            "[Parallel(n_jobs=-1)]: Done  98 tasks      | elapsed: 59.1min\n",
            "[Parallel(n_jobs=-1)]: Done  99 tasks      | elapsed: 59.3min\n",
            "[Parallel(n_jobs=-1)]: Done 100 tasks      | elapsed: 60.6min\n",
            "[Parallel(n_jobs=-1)]: Done 101 tasks      | elapsed: 61.1min\n",
            "[Parallel(n_jobs=-1)]: Done 102 tasks      | elapsed: 61.7min\n",
            "[Parallel(n_jobs=-1)]: Done 103 tasks      | elapsed: 62.3min\n",
            "[Parallel(n_jobs=-1)]: Done 104 tasks      | elapsed: 62.9min\n",
            "[Parallel(n_jobs=-1)]: Done 105 tasks      | elapsed: 63.5min\n",
            "[Parallel(n_jobs=-1)]: Done 106 tasks      | elapsed: 64.7min\n",
            "[Parallel(n_jobs=-1)]: Done 107 tasks      | elapsed: 65.4min\n",
            "[Parallel(n_jobs=-1)]: Done 108 tasks      | elapsed: 66.5min\n",
            "[Parallel(n_jobs=-1)]: Done 109 tasks      | elapsed: 67.2min\n",
            "[Parallel(n_jobs=-1)]: Done 110 tasks      | elapsed: 68.3min\n",
            "[Parallel(n_jobs=-1)]: Done 111 tasks      | elapsed: 68.4min\n",
            "[Parallel(n_jobs=-1)]: Done 112 tasks      | elapsed: 69.5min\n",
            "[Parallel(n_jobs=-1)]: Done 113 tasks      | elapsed: 69.6min\n",
            "[Parallel(n_jobs=-1)]: Done 114 tasks      | elapsed: 70.7min\n",
            "[Parallel(n_jobs=-1)]: Done 115 tasks      | elapsed: 70.9min\n",
            "[Parallel(n_jobs=-1)]: Done 116 tasks      | elapsed: 71.5min\n",
            "[Parallel(n_jobs=-1)]: Done 117 tasks      | elapsed: 71.7min\n",
            "[Parallel(n_jobs=-1)]: Done 118 tasks      | elapsed: 72.3min\n",
            "[Parallel(n_jobs=-1)]: Done 119 tasks      | elapsed: 72.5min\n",
            "[Parallel(n_jobs=-1)]: Done 120 tasks      | elapsed: 73.1min\n",
            "[Parallel(n_jobs=-1)]: Done 121 tasks      | elapsed: 73.6min\n",
            "[Parallel(n_jobs=-1)]: Done 122 tasks      | elapsed: 74.4min\n",
            "[Parallel(n_jobs=-1)]: Done 123 tasks      | elapsed: 74.9min\n",
            "[Parallel(n_jobs=-1)]: Done 124 tasks      | elapsed: 75.6min\n",
            "[Parallel(n_jobs=-1)]: Done 125 tasks      | elapsed: 76.0min\n",
            "[Parallel(n_jobs=-1)]: Done 126 tasks      | elapsed: 76.7min\n",
            "[Parallel(n_jobs=-1)]: Done 127 tasks      | elapsed: 77.2min\n",
            "[Parallel(n_jobs=-1)]: Done 128 tasks      | elapsed: 77.7min\n",
            "[Parallel(n_jobs=-1)]: Done 129 tasks      | elapsed: 78.2min\n",
            "[Parallel(n_jobs=-1)]: Done 130 tasks      | elapsed: 78.8min\n",
            "[Parallel(n_jobs=-1)]: Done 131 tasks      | elapsed: 80.0min\n",
            "[Parallel(n_jobs=-1)]: Done 132 tasks      | elapsed: 80.6min\n",
            "[Parallel(n_jobs=-1)]: Done 133 tasks      | elapsed: 81.9min\n",
            "[Parallel(n_jobs=-1)]: Done 134 tasks      | elapsed: 82.6min\n",
            "[Parallel(n_jobs=-1)]: Done 135 tasks      | elapsed: 83.7min\n",
            "[Parallel(n_jobs=-1)]: Done 136 tasks      | elapsed: 83.8min\n",
            "[Parallel(n_jobs=-1)]: Done 137 tasks      | elapsed: 85.0min\n",
            "[Parallel(n_jobs=-1)]: Done 138 tasks      | elapsed: 85.1min\n",
            "[Parallel(n_jobs=-1)]: Done 139 tasks      | elapsed: 86.2min\n",
            "[Parallel(n_jobs=-1)]: Done 140 tasks      | elapsed: 86.4min\n",
            "[Parallel(n_jobs=-1)]: Done 141 tasks      | elapsed: 87.9min\n",
            "[Parallel(n_jobs=-1)]: Done 142 tasks      | elapsed: 88.0min\n",
            "[Parallel(n_jobs=-1)]: Done 143 tasks      | elapsed: 89.5min\n",
            "[Parallel(n_jobs=-1)]: Done 144 tasks      | elapsed: 89.6min\n",
            "[Parallel(n_jobs=-1)]: Done 145 tasks      | elapsed: 91.1min\n",
            "[Parallel(n_jobs=-1)]: Done 146 tasks      | elapsed: 91.3min\n",
            "[Parallel(n_jobs=-1)]: Done 147 tasks      | elapsed: 92.6min\n",
            "[Parallel(n_jobs=-1)]: Done 150 out of 150 | elapsed: 94.3min finished\n"
          ],
          "name": "stderr"
        },
        {
          "output_type": "execute_result",
          "data": {
            "text/plain": [
              "RandomizedSearchCV(cv=5, error_score=nan,\n",
              "                   estimator=<keras.wrappers.scikit_learn.KerasClassifier object at 0x7f4bf9212b38>,\n",
              "                   iid='deprecated', n_iter=30, n_jobs=-1,\n",
              "                   param_distributions={'activacion_oculta': ['relu', 'sigmoid',\n",
              "                                                              'tanh'],\n",
              "                                        'dropout': [0.1, 0.25, 0.5],\n",
              "                                        'input': [512], 'n_layers': [1, 2, 3],\n",
              "                                        'nn1': [512, 256, 128],\n",
              "                                        'nn2': [256, 128, 64],\n",
              "                                        'nn3': [128, 64, 32]},\n",
              "                   pre_dispatch='2*n_jobs', random_state=20, refit=True,\n",
              "                   return_train_score=False, scoring='accuracy', verbose=20)"
            ]
          },
          "metadata": {
            "tags": []
          },
          "execution_count": 24
        }
      ]
    },
    {
      "cell_type": "code",
      "metadata": {
        "colab_type": "code",
        "id": "fJXzqTv0AZIL",
        "colab": {
          "base_uri": "https://localhost:8080/",
          "height": 221
        },
        "outputId": "f0c4be98-a591-4447-a4d7-ea8a28ee9605"
      },
      "source": [
        "undercomplete_classifier = Sequential()\n",
        "undercomplete_classifier.add(encoder)\n",
        "undercomplete_classifier.add(grid.best_estimator_.model)\n",
        "\n",
        "undercomplete_classifier.summary()\n"
      ],
      "execution_count": null,
      "outputs": [
        {
          "output_type": "stream",
          "text": [
            "Model: \"sequential_1\"\n",
            "_________________________________________________________________\n",
            "Layer (type)                 Output Shape              Param #   \n",
            "=================================================================\n",
            "Udercomplete_Encoder (Model) (None, 512)               401920    \n",
            "_________________________________________________________________\n",
            "Mi_Red (Sequential)          (None, 10)                396554    \n",
            "=================================================================\n",
            "Total params: 798,474\n",
            "Trainable params: 396,554\n",
            "Non-trainable params: 401,920\n",
            "_________________________________________________________________\n"
          ],
          "name": "stdout"
        }
      ]
    },
    {
      "cell_type": "markdown",
      "metadata": {
        "colab_type": "text",
        "id": "z2QzhP58K3KV"
      },
      "source": [
        "#### Denoising Autoencoder"
      ]
    },
    {
      "cell_type": "markdown",
      "metadata": {
        "colab_type": "text",
        "id": "HRq9zfAjK3KY"
      },
      "source": [
        "Para obtener el mejor modelo, se realizan 30 iteraciones aleatorias entre los parámetros para obtener un buen modelo para predecir. Entre los hiperparámetros a buscar se realizará el número de capas, el número de neuronas en cada capa, la activación de la capa oculta, y el porcentaje de Dropout. "
      ]
    },
    {
      "cell_type": "code",
      "metadata": {
        "id": "nf8IdY1mnEz3",
        "colab_type": "code",
        "colab": {}
      },
      "source": [
        "X_n,_ = train_test_split(X_train,train_size=0.1)\n",
        "\n",
        "X_noisy = X_n + np.random.normal(loc=0.0, scale=0.5, size=X_n.shape)\n",
        "X_noisy = np.clip(X_noisy, 0., 1.)\n"
      ],
      "execution_count": null,
      "outputs": []
    },
    {
      "cell_type": "code",
      "metadata": {
        "colab_type": "code",
        "id": "LEliAxbWK3KY",
        "colab": {
          "base_uri": "https://localhost:8080/",
          "height": 697
        },
        "outputId": "ebead5d6-455e-4b36-edd5-e26c3a59c33b"
      },
      "source": [
        "autoencoder = Sequential(name='Denoising_Autoencoder')\n",
        "\n",
        "#Input image\n",
        "autoencoder.add(Input(shape=(784,),name='Capa_Entrada'))\n",
        "autoencoder.add(Dense(units=512, activation='relu',name='encoded-1'))\n",
        "autoencoder.add(Dense(units=784, activation='sigmoid',name='decoded-1'))\n",
        "\n",
        "# compiling the autoencoder\n",
        "autoencoder.compile(optimizer='adam', loss='binary_crossentropy', metrics=['accuracy', 'mse'])\n",
        "# Fitting the data to the autoencoder \n",
        "autoencoder.fit(X_noisy, X_n, epochs=20, batch_size=10)\n",
        "\n",
        "X_rec = autoencoder.predict(X_n)"
      ],
      "execution_count": null,
      "outputs": [
        {
          "output_type": "stream",
          "text": [
            "Epoch 1/20\n",
            "600/600 [==============================] - 3s 5ms/step - loss: 0.3543 - accuracy: 0.0090 - mse: 0.0383\n",
            "Epoch 2/20\n",
            "600/600 [==============================] - 3s 5ms/step - loss: 0.3120 - accuracy: 0.0120 - mse: 0.0240\n",
            "Epoch 3/20\n",
            "600/600 [==============================] - 3s 5ms/step - loss: 0.3007 - accuracy: 0.0142 - mse: 0.0201\n",
            "Epoch 4/20\n",
            "600/600 [==============================] - 3s 5ms/step - loss: 0.2937 - accuracy: 0.0167 - mse: 0.0177\n",
            "Epoch 5/20\n",
            "600/600 [==============================] - 3s 5ms/step - loss: 0.2887 - accuracy: 0.0208 - mse: 0.0160\n",
            "Epoch 6/20\n",
            "600/600 [==============================] - 3s 5ms/step - loss: 0.2849 - accuracy: 0.0267 - mse: 0.0148\n",
            "Epoch 7/20\n",
            "600/600 [==============================] - 3s 5ms/step - loss: 0.2818 - accuracy: 0.0272 - mse: 0.0138\n",
            "Epoch 8/20\n",
            "600/600 [==============================] - 3s 5ms/step - loss: 0.2797 - accuracy: 0.0302 - mse: 0.0131\n",
            "Epoch 9/20\n",
            "600/600 [==============================] - 3s 5ms/step - loss: 0.2775 - accuracy: 0.0315 - mse: 0.0124\n",
            "Epoch 10/20\n",
            "600/600 [==============================] - 3s 5ms/step - loss: 0.2757 - accuracy: 0.0340 - mse: 0.0118\n",
            "Epoch 11/20\n",
            "600/600 [==============================] - 3s 5ms/step - loss: 0.2742 - accuracy: 0.0350 - mse: 0.0113\n",
            "Epoch 12/20\n",
            "600/600 [==============================] - 3s 5ms/step - loss: 0.2728 - accuracy: 0.0390 - mse: 0.0109\n",
            "Epoch 13/20\n",
            "600/600 [==============================] - 3s 5ms/step - loss: 0.2716 - accuracy: 0.0405 - mse: 0.0105\n",
            "Epoch 14/20\n",
            "600/600 [==============================] - 3s 5ms/step - loss: 0.2708 - accuracy: 0.0392 - mse: 0.0102\n",
            "Epoch 15/20\n",
            "600/600 [==============================] - 3s 5ms/step - loss: 0.2698 - accuracy: 0.0427 - mse: 0.0099\n",
            "Epoch 16/20\n",
            "600/600 [==============================] - 3s 6ms/step - loss: 0.2690 - accuracy: 0.0412 - mse: 0.0096\n",
            "Epoch 17/20\n",
            "600/600 [==============================] - 3s 6ms/step - loss: 0.2685 - accuracy: 0.0455 - mse: 0.0095\n",
            "Epoch 18/20\n",
            "600/600 [==============================] - 3s 6ms/step - loss: 0.2677 - accuracy: 0.0515 - mse: 0.0093\n",
            "Epoch 19/20\n",
            "600/600 [==============================] - 3s 5ms/step - loss: 0.2672 - accuracy: 0.0482 - mse: 0.0091\n",
            "Epoch 20/20\n",
            "600/600 [==============================] - 3s 5ms/step - loss: 0.2666 - accuracy: 0.0482 - mse: 0.0089\n"
          ],
          "name": "stdout"
        }
      ]
    },
    {
      "cell_type": "code",
      "metadata": {
        "id": "QSjBbSSv3JZQ",
        "colab_type": "code",
        "colab": {
          "base_uri": "https://localhost:8080/",
          "height": 221
        },
        "outputId": "702efd83-aedf-49fa-fd0b-f85bee4e5626"
      },
      "source": [
        "encoder =Model(autoencoder.layers[0].input,autoencoder.layers[-1].input,name='Denoising_Encoder')\n",
        "for layer in encoder.layers:\n",
        "  layer.trainable = False\n",
        "\n",
        "X_enc = encoder.predict(X_n)\n",
        "encoder.summary()"
      ],
      "execution_count": null,
      "outputs": [
        {
          "output_type": "stream",
          "text": [
            "Model: \"Denoising_Encoder\"\n",
            "_________________________________________________________________\n",
            "Layer (type)                 Output Shape              Param #   \n",
            "=================================================================\n",
            "Capa_Entrada (InputLayer)    [(None, 784)]             0         \n",
            "_________________________________________________________________\n",
            "encoded-1 (Dense)            (None, 512)               401920    \n",
            "=================================================================\n",
            "Total params: 401,920\n",
            "Trainable params: 0\n",
            "Non-trainable params: 401,920\n",
            "_________________________________________________________________\n"
          ],
          "name": "stdout"
        }
      ]
    },
    {
      "cell_type": "code",
      "metadata": {
        "id": "RygK2m0EooMC",
        "colab_type": "code",
        "colab": {
          "base_uri": "https://localhost:8080/",
          "height": 553
        },
        "outputId": "1c24c37f-b652-4a74-ae40-fb55811b3827"
      },
      "source": [
        "n = 5\n",
        "fig, axes = plt.subplots(nrows=4, ncols=n, figsize=(8, 8))\n",
        "for i in range(n):\n",
        "    # display original\n",
        "    ax = plt.subplot(4, n, i+1)\n",
        "    plt.imshow(X_n[i].reshape(28, 28),cmap='gray')\n",
        "    ax.get_xaxis().set_visible(False)\n",
        "    ax.get_yaxis().set_visible(False)\n",
        "\n",
        "    # display noisy\n",
        "    ax = plt.subplot(4, n, i + n+1)\n",
        "    plt.imshow(X_noisy[i].reshape(28, 28),cmap='gray')\n",
        "    ax.get_xaxis().set_visible(False)\n",
        "    ax.get_yaxis().set_visible(False)\n",
        "\n",
        "    # display encoded\n",
        "    ax = plt.subplot(4, n, i + 2*n+1)\n",
        "    plt.imshow(X_enc[i].reshape(32, 16),cmap='gray')\n",
        "    ax.get_xaxis().set_visible(False)\n",
        "    ax.get_yaxis().set_visible(False)\n",
        "\n",
        "    # display recosntructed\n",
        "    ax = plt.subplot(4, n, i + 3*n+1)\n",
        "    plt.imshow(X_rec[i].reshape(28, 28),cmap='gray')\n",
        "    ax.get_xaxis().set_visible(False)\n",
        "    ax.get_yaxis().set_visible(False)\n",
        "\n",
        "plt.tight_layout()\n",
        "plt.show()"
      ],
      "execution_count": null,
      "outputs": [
        {
          "output_type": "display_data",
          "data": {
            "image/png": "[encoded data removed]",
            "text/plain": [
              "<Figure size 576x576 with 20 Axes>"
            ]
          },
          "metadata": {
            "tags": [],
            "needs_background": "light"
          }
        }
      ]
    },
    {
      "cell_type": "code",
      "metadata": {
        "colab_type": "code",
        "id": "k_6VTUsqK3Kb",
        "colab": {
          "base_uri": "https://localhost:8080/",
          "height": 1000
        },
        "outputId": "01449832-2552-4408-f41d-2ab27b136203"
      },
      "source": [
        "param_grid = dict(input = [X_enc.shape[1]],\n",
        "                  nn1 = [512, 256, 128],\n",
        "                  nn2 = [256, 128, 64],\n",
        "                  nn3 = [128, 64, 32],\n",
        "                  n_layers = [1,2,3],\n",
        "                  dropout = [0.1,0.25,0.5],\n",
        "                  activacion_oculta = ['relu','sigmoid','tanh']\n",
        "                  )\n",
        "\n",
        "grid = RandomizedSearchCV(modelCV,param_grid,scoring='accuracy',verbose=20,n_jobs=-1,cv = 5,n_iter=30,random_state=20)\n",
        "\n",
        "X_enc = encoder.predict(X_train)\n",
        "grid.fit(X_enc,Y_train)\n"
      ],
      "execution_count": null,
      "outputs": [
        {
          "output_type": "stream",
          "text": [
            "Fitting 5 folds for each of 30 candidates, totalling 150 fits\n"
          ],
          "name": "stdout"
        },
        {
          "output_type": "stream",
          "text": [
            "[Parallel(n_jobs=-1)]: Using backend LokyBackend with 2 concurrent workers.\n",
            "[Parallel(n_jobs=-1)]: Done   1 tasks      | elapsed:  2.3min\n",
            "[Parallel(n_jobs=-1)]: Done   2 tasks      | elapsed:  2.3min\n",
            "[Parallel(n_jobs=-1)]: Done   3 tasks      | elapsed:  4.6min\n",
            "[Parallel(n_jobs=-1)]: Done   4 tasks      | elapsed:  4.6min\n",
            "[Parallel(n_jobs=-1)]: Done   5 tasks      | elapsed:  5.9min\n",
            "[Parallel(n_jobs=-1)]: Done   6 tasks      | elapsed:  6.7min\n",
            "[Parallel(n_jobs=-1)]: Done   7 tasks      | elapsed:  7.2min\n",
            "[Parallel(n_jobs=-1)]: Done   8 tasks      | elapsed:  8.0min\n",
            "[Parallel(n_jobs=-1)]: Done   9 tasks      | elapsed:  8.5min\n",
            "[Parallel(n_jobs=-1)]: Done  10 tasks      | elapsed:  9.1min\n",
            "/usr/local/lib/python3.6/dist-packages/joblib/externals/loky/process_executor.py:691: UserWarning: A worker stopped while some jobs were given to the executor. This can be caused by a too short worker timeout or by a memory leak.\n",
            "  \"timeout or by a memory leak.\", UserWarning\n",
            "[Parallel(n_jobs=-1)]: Done  11 tasks      | elapsed:  9.2min\n",
            "[Parallel(n_jobs=-1)]: Done  12 tasks      | elapsed:  9.8min\n",
            "[Parallel(n_jobs=-1)]: Done  13 tasks      | elapsed:  9.8min\n",
            "[Parallel(n_jobs=-1)]: Done  14 tasks      | elapsed: 10.4min\n",
            "[Parallel(n_jobs=-1)]: Done  15 tasks      | elapsed: 10.6min\n",
            "[Parallel(n_jobs=-1)]: Done  16 tasks      | elapsed: 11.3min\n",
            "[Parallel(n_jobs=-1)]: Done  17 tasks      | elapsed: 11.5min\n",
            "[Parallel(n_jobs=-1)]: Done  18 tasks      | elapsed: 12.2min\n",
            "[Parallel(n_jobs=-1)]: Done  19 tasks      | elapsed: 12.3min\n",
            "[Parallel(n_jobs=-1)]: Done  20 tasks      | elapsed: 13.0min\n",
            "[Parallel(n_jobs=-1)]: Done  21 tasks      | elapsed: 13.2min\n",
            "[Parallel(n_jobs=-1)]: Done  22 tasks      | elapsed: 14.1min\n",
            "[Parallel(n_jobs=-1)]: Done  23 tasks      | elapsed: 14.1min\n",
            "[Parallel(n_jobs=-1)]: Done  24 tasks      | elapsed: 14.9min\n",
            "[Parallel(n_jobs=-1)]: Done  25 tasks      | elapsed: 15.1min\n",
            "[Parallel(n_jobs=-1)]: Done  26 tasks      | elapsed: 15.5min\n",
            "[Parallel(n_jobs=-1)]: Done  27 tasks      | elapsed: 15.7min\n",
            "[Parallel(n_jobs=-1)]: Done  28 tasks      | elapsed: 16.2min\n",
            "[Parallel(n_jobs=-1)]: Done  29 tasks      | elapsed: 16.3min\n",
            "[Parallel(n_jobs=-1)]: Done  30 tasks      | elapsed: 16.8min\n",
            "[Parallel(n_jobs=-1)]: Done  31 tasks      | elapsed: 17.1min\n",
            "[Parallel(n_jobs=-1)]: Done  32 tasks      | elapsed: 17.7min\n",
            "[Parallel(n_jobs=-1)]: Done  33 tasks      | elapsed: 17.9min\n",
            "[Parallel(n_jobs=-1)]: Done  34 tasks      | elapsed: 18.5min\n",
            "[Parallel(n_jobs=-1)]: Done  35 tasks      | elapsed: 18.8min\n",
            "[Parallel(n_jobs=-1)]: Done  36 tasks      | elapsed: 19.3min\n",
            "[Parallel(n_jobs=-1)]: Done  37 tasks      | elapsed: 19.7min\n",
            "[Parallel(n_jobs=-1)]: Done  38 tasks      | elapsed: 20.2min\n",
            "[Parallel(n_jobs=-1)]: Done  39 tasks      | elapsed: 20.6min\n",
            "[Parallel(n_jobs=-1)]: Done  40 tasks      | elapsed: 21.1min\n",
            "[Parallel(n_jobs=-1)]: Done  41 tasks      | elapsed: 21.6min\n",
            "[Parallel(n_jobs=-1)]: Done  42 tasks      | elapsed: 22.3min\n",
            "[Parallel(n_jobs=-1)]: Done  43 tasks      | elapsed: 22.7min\n",
            "[Parallel(n_jobs=-1)]: Done  44 tasks      | elapsed: 23.3min\n",
            "[Parallel(n_jobs=-1)]: Done  45 tasks      | elapsed: 23.9min\n",
            "[Parallel(n_jobs=-1)]: Done  46 tasks      | elapsed: 25.0min\n",
            "[Parallel(n_jobs=-1)]: Done  47 tasks      | elapsed: 25.6min\n",
            "[Parallel(n_jobs=-1)]: Done  48 tasks      | elapsed: 26.7min\n",
            "[Parallel(n_jobs=-1)]: Done  49 tasks      | elapsed: 27.3min\n",
            "[Parallel(n_jobs=-1)]: Done  50 tasks      | elapsed: 28.1min\n",
            "[Parallel(n_jobs=-1)]: Done  51 tasks      | elapsed: 28.3min\n",
            "[Parallel(n_jobs=-1)]: Done  52 tasks      | elapsed: 29.0min\n",
            "[Parallel(n_jobs=-1)]: Done  53 tasks      | elapsed: 29.3min\n",
            "[Parallel(n_jobs=-1)]: Done  54 tasks      | elapsed: 29.9min\n",
            "[Parallel(n_jobs=-1)]: Done  55 tasks      | elapsed: 30.2min\n",
            "[Parallel(n_jobs=-1)]: Done  56 tasks      | elapsed: 30.9min\n",
            "[Parallel(n_jobs=-1)]: Done  57 tasks      | elapsed: 31.2min\n",
            "[Parallel(n_jobs=-1)]: Done  58 tasks      | elapsed: 32.0min\n",
            "[Parallel(n_jobs=-1)]: Done  59 tasks      | elapsed: 32.3min\n",
            "[Parallel(n_jobs=-1)]: Done  60 tasks      | elapsed: 33.1min\n",
            "[Parallel(n_jobs=-1)]: Done  61 tasks      | elapsed: 34.5min\n",
            "[Parallel(n_jobs=-1)]: Done  62 tasks      | elapsed: 35.5min\n",
            "[Parallel(n_jobs=-1)]: Done  63 tasks      | elapsed: 36.8min\n",
            "[Parallel(n_jobs=-1)]: Done  64 tasks      | elapsed: 37.7min\n",
            "[Parallel(n_jobs=-1)]: Done  65 tasks      | elapsed: 39.0min\n",
            "[Parallel(n_jobs=-1)]: Done  66 tasks      | elapsed: 39.0min\n",
            "[Parallel(n_jobs=-1)]: Done  67 tasks      | elapsed: 40.2min\n",
            "[Parallel(n_jobs=-1)]: Done  68 tasks      | elapsed: 40.2min\n",
            "[Parallel(n_jobs=-1)]: Done  69 tasks      | elapsed: 41.4min\n",
            "[Parallel(n_jobs=-1)]: Done  70 tasks      | elapsed: 41.5min\n",
            "[Parallel(n_jobs=-1)]: Done  71 tasks      | elapsed: 42.5min\n",
            "[Parallel(n_jobs=-1)]: Done  72 tasks      | elapsed: 42.6min\n",
            "[Parallel(n_jobs=-1)]: Done  73 tasks      | elapsed: 43.6min\n",
            "[Parallel(n_jobs=-1)]: Done  74 tasks      | elapsed: 43.7min\n",
            "[Parallel(n_jobs=-1)]: Done  75 tasks      | elapsed: 44.8min\n",
            "[Parallel(n_jobs=-1)]: Done  76 tasks      | elapsed: 44.8min\n",
            "[Parallel(n_jobs=-1)]: Done  77 tasks      | elapsed: 45.8min\n",
            "[Parallel(n_jobs=-1)]: Done  78 tasks      | elapsed: 45.9min\n",
            "[Parallel(n_jobs=-1)]: Done  79 tasks      | elapsed: 46.9min\n",
            "[Parallel(n_jobs=-1)]: Done  80 tasks      | elapsed: 46.9min\n",
            "[Parallel(n_jobs=-1)]: Done  81 tasks      | elapsed: 48.0min\n",
            "[Parallel(n_jobs=-1)]: Done  82 tasks      | elapsed: 48.0min\n",
            "[Parallel(n_jobs=-1)]: Done  83 tasks      | elapsed: 49.0min\n",
            "[Parallel(n_jobs=-1)]: Done  84 tasks      | elapsed: 49.2min\n",
            "[Parallel(n_jobs=-1)]: Done  85 tasks      | elapsed: 50.2min\n",
            "[Parallel(n_jobs=-1)]: Done  86 tasks      | elapsed: 50.7min\n",
            "[Parallel(n_jobs=-1)]: Done  87 tasks      | elapsed: 51.9min\n",
            "[Parallel(n_jobs=-1)]: Done  88 tasks      | elapsed: 52.4min\n",
            "[Parallel(n_jobs=-1)]: Done  89 tasks      | elapsed: 53.5min\n",
            "[Parallel(n_jobs=-1)]: Done  90 tasks      | elapsed: 54.0min\n",
            "[Parallel(n_jobs=-1)]: Done  91 tasks      | elapsed: 54.6min\n",
            "[Parallel(n_jobs=-1)]: Done  92 tasks      | elapsed: 55.0min\n",
            "[Parallel(n_jobs=-1)]: Done  93 tasks      | elapsed: 55.4min\n",
            "[Parallel(n_jobs=-1)]: Done  94 tasks      | elapsed: 56.0min\n",
            "[Parallel(n_jobs=-1)]: Done  95 tasks      | elapsed: 56.4min\n",
            "[Parallel(n_jobs=-1)]: Done  96 tasks      | elapsed: 58.2min\n",
            "[Parallel(n_jobs=-1)]: Done  97 tasks      | elapsed: 58.6min\n",
            "[Parallel(n_jobs=-1)]: Done  98 tasks      | elapsed: 60.3min\n",
            "[Parallel(n_jobs=-1)]: Done  99 tasks      | elapsed: 60.8min\n",
            "[Parallel(n_jobs=-1)]: Done 100 tasks      | elapsed: 62.1min\n",
            "[Parallel(n_jobs=-1)]: Done 101 tasks      | elapsed: 62.4min\n",
            "[Parallel(n_jobs=-1)]: Done 102 tasks      | elapsed: 63.4min\n",
            "[Parallel(n_jobs=-1)]: Done 103 tasks      | elapsed: 63.6min\n",
            "[Parallel(n_jobs=-1)]: Done 104 tasks      | elapsed: 64.7min\n",
            "[Parallel(n_jobs=-1)]: Done 105 tasks      | elapsed: 65.0min\n",
            "[Parallel(n_jobs=-1)]: Done 106 tasks      | elapsed: 66.6min\n",
            "[Parallel(n_jobs=-1)]: Done 107 tasks      | elapsed: 66.9min\n",
            "[Parallel(n_jobs=-1)]: Done 108 tasks      | elapsed: 68.4min\n",
            "[Parallel(n_jobs=-1)]: Done 109 tasks      | elapsed: 68.7min\n",
            "[Parallel(n_jobs=-1)]: Done 110 tasks      | elapsed: 70.0min\n",
            "[Parallel(n_jobs=-1)]: Done 111 tasks      | elapsed: 70.2min\n",
            "[Parallel(n_jobs=-1)]: Done 112 tasks      | elapsed: 71.3min\n",
            "[Parallel(n_jobs=-1)]: Done 113 tasks      | elapsed: 71.4min\n",
            "[Parallel(n_jobs=-1)]: Done 114 tasks      | elapsed: 72.6min\n",
            "[Parallel(n_jobs=-1)]: Done 115 tasks      | elapsed: 72.7min\n",
            "[Parallel(n_jobs=-1)]: Done 116 tasks      | elapsed: 73.4min\n",
            "[Parallel(n_jobs=-1)]: Done 117 tasks      | elapsed: 73.5min\n",
            "[Parallel(n_jobs=-1)]: Done 118 tasks      | elapsed: 74.2min\n",
            "[Parallel(n_jobs=-1)]: Done 119 tasks      | elapsed: 74.3min\n",
            "[Parallel(n_jobs=-1)]: Done 120 tasks      | elapsed: 75.1min\n",
            "[Parallel(n_jobs=-1)]: Done 121 tasks      | elapsed: 75.6min\n",
            "[Parallel(n_jobs=-1)]: Done 122 tasks      | elapsed: 76.3min\n",
            "[Parallel(n_jobs=-1)]: Done 123 tasks      | elapsed: 76.8min\n",
            "[Parallel(n_jobs=-1)]: Done 124 tasks      | elapsed: 77.5min\n",
            "[Parallel(n_jobs=-1)]: Done 125 tasks      | elapsed: 78.0min\n",
            "[Parallel(n_jobs=-1)]: Done 126 tasks      | elapsed: 78.6min\n",
            "[Parallel(n_jobs=-1)]: Done 127 tasks      | elapsed: 79.1min\n",
            "[Parallel(n_jobs=-1)]: Done 128 tasks      | elapsed: 79.7min\n",
            "[Parallel(n_jobs=-1)]: Done 129 tasks      | elapsed: 80.2min\n",
            "[Parallel(n_jobs=-1)]: Done 130 tasks      | elapsed: 80.8min\n",
            "[Parallel(n_jobs=-1)]: Done 131 tasks      | elapsed: 82.1min\n",
            "[Parallel(n_jobs=-1)]: Done 132 tasks      | elapsed: 82.7min\n",
            "[Parallel(n_jobs=-1)]: Done 133 tasks      | elapsed: 83.9min\n",
            "[Parallel(n_jobs=-1)]: Done 134 tasks      | elapsed: 84.5min\n",
            "[Parallel(n_jobs=-1)]: Done 135 tasks      | elapsed: 85.8min\n",
            "[Parallel(n_jobs=-1)]: Done 136 tasks      | elapsed: 85.8min\n",
            "[Parallel(n_jobs=-1)]: Done 137 tasks      | elapsed: 87.1min\n",
            "[Parallel(n_jobs=-1)]: Done 138 tasks      | elapsed: 87.1min\n",
            "[Parallel(n_jobs=-1)]: Done 139 tasks      | elapsed: 88.3min\n",
            "[Parallel(n_jobs=-1)]: Done 140 tasks      | elapsed: 88.3min\n",
            "[Parallel(n_jobs=-1)]: Done 141 tasks      | elapsed: 89.9min\n",
            "[Parallel(n_jobs=-1)]: Done 142 tasks      | elapsed: 90.0min\n",
            "[Parallel(n_jobs=-1)]: Done 143 tasks      | elapsed: 91.5min\n",
            "[Parallel(n_jobs=-1)]: Done 144 tasks      | elapsed: 91.6min\n",
            "[Parallel(n_jobs=-1)]: Done 145 tasks      | elapsed: 93.1min\n",
            "[Parallel(n_jobs=-1)]: Done 146 tasks      | elapsed: 93.2min\n",
            "[Parallel(n_jobs=-1)]: Done 147 tasks      | elapsed: 94.7min\n",
            "[Parallel(n_jobs=-1)]: Done 150 out of 150 | elapsed: 96.3min finished\n"
          ],
          "name": "stderr"
        },
        {
          "output_type": "execute_result",
          "data": {
            "text/plain": [
              "RandomizedSearchCV(cv=5, error_score=nan,\n",
              "                   estimator=<keras.wrappers.scikit_learn.KerasClassifier object at 0x7f4bf9212b38>,\n",
              "                   iid='deprecated', n_iter=30, n_jobs=-1,\n",
              "                   param_distributions={'activacion_oculta': ['relu', 'sigmoid',\n",
              "                                                              'tanh'],\n",
              "                                        'dropout': [0.1, 0.25, 0.5],\n",
              "                                        'input': [512], 'n_layers': [1, 2, 3],\n",
              "                                        'nn1': [512, 256, 128],\n",
              "                                        'nn2': [256, 128, 64],\n",
              "                                        'nn3': [128, 64, 32]},\n",
              "                   pre_dispatch='2*n_jobs', random_state=20, refit=True,\n",
              "                   return_train_score=False, scoring='accuracy', verbose=20)"
            ]
          },
          "metadata": {
            "tags": []
          },
          "execution_count": 34
        }
      ]
    },
    {
      "cell_type": "code",
      "metadata": {
        "colab_type": "code",
        "id": "aR5spkhrK3Ke",
        "colab": {
          "base_uri": "https://localhost:8080/",
          "height": 221
        },
        "outputId": "75c0055e-836a-41f9-a57a-ecb6fc611e2d"
      },
      "source": [
        "denoising_classifier = Sequential()\n",
        "denoising_classifier.add(encoder)\n",
        "denoising_classifier.add(grid.best_estimator_.model)\n",
        "\n",
        "denoising_classifier.summary()"
      ],
      "execution_count": null,
      "outputs": [
        {
          "output_type": "stream",
          "text": [
            "Model: \"sequential_2\"\n",
            "_________________________________________________________________\n",
            "Layer (type)                 Output Shape              Param #   \n",
            "=================================================================\n",
            "Denoising_Encoder (Model)    (None, 512)               401920    \n",
            "_________________________________________________________________\n",
            "Mi_Red (Sequential)          (None, 10)                396554    \n",
            "=================================================================\n",
            "Total params: 798,474\n",
            "Trainable params: 396,554\n",
            "Non-trainable params: 401,920\n",
            "_________________________________________________________________\n"
          ],
          "name": "stdout"
        }
      ]
    },
    {
      "cell_type": "markdown",
      "metadata": {
        "colab_type": "text",
        "id": "jVRaWghl_Aay"
      },
      "source": [
        "### **5. Predicción**"
      ]
    },
    {
      "cell_type": "markdown",
      "metadata": {
        "id": "OA3mTsYaBfXO",
        "colab_type": "text"
      },
      "source": [
        "Para evaluar las predicciones se van a construir los 3 diferentes modelos propuestos a lso cuales se van a nombrar:\n",
        "\n",
        "1. **Modelo completo:** Se obtienen las imágenes originales redimensionadas a 2 dimensiones, y se clasifica con el mejor clasificador hallado.\n",
        "2. **Modelo reducido:** Con las imágenes originales se realiza la mejor reducción de dimensionalidad con el undercomplete autoencoder y se entrena con el mejor clasificador hallado.\n",
        "3. **Modelo reducido con Ruido:** Con las imágenes originales se realiza la mejor reducción de dimensionalidad con el denoising autoencoder y se entrena con el mejor clasificador hallado."
      ]
    },
    {
      "cell_type": "code",
      "metadata": {
        "colab_type": "code",
        "id": "gONfgkQ_gPtg",
        "colab": {
          "base_uri": "https://localhost:8080/",
          "height": 34
        },
        "outputId": "02bbc3d7-8910-4749-ec1a-f6bb65fb8e65"
      },
      "source": [
        "y_pred1 = best_classifier.predict(X_test)\n",
        "y_pred1"
      ],
      "execution_count": null,
      "outputs": [
        {
          "output_type": "execute_result",
          "data": {
            "text/plain": [
              "array([9., 2., 1., ..., 8., 1., 5.], dtype=float32)"
            ]
          },
          "metadata": {
            "tags": []
          },
          "execution_count": 47
        }
      ]
    },
    {
      "cell_type": "code",
      "metadata": {
        "id": "XzQGUVliVHJr",
        "colab_type": "code",
        "colab": {
          "base_uri": "https://localhost:8080/",
          "height": 34
        },
        "outputId": "770c02dc-9b8f-432a-debc-11cee1552bac"
      },
      "source": [
        "y_pred3 = undercomplete_classifier.predict(X_test).argmax(axis=-1)\n",
        "y_pred3"
      ],
      "execution_count": null,
      "outputs": [
        {
          "output_type": "execute_result",
          "data": {
            "text/plain": [
              "array([9, 2, 1, ..., 8, 1, 5])"
            ]
          },
          "metadata": {
            "tags": []
          },
          "execution_count": 44
        }
      ]
    },
    {
      "cell_type": "code",
      "metadata": {
        "id": "4FT-sBKHVJax",
        "colab_type": "code",
        "colab": {
          "base_uri": "https://localhost:8080/",
          "height": 34
        },
        "outputId": "af9a5551-56a2-4322-c39a-fca61f1b7988"
      },
      "source": [
        "y_pred2 = denoising_classifier.predict(X_test).argmax(axis=-1)\n",
        "y_pred2"
      ],
      "execution_count": null,
      "outputs": [
        {
          "output_type": "execute_result",
          "data": {
            "text/plain": [
              "array([9, 2, 1, ..., 8, 1, 5])"
            ]
          },
          "metadata": {
            "tags": []
          },
          "execution_count": 46
        }
      ]
    },
    {
      "cell_type": "markdown",
      "metadata": {
        "colab_type": "text",
        "id": "6oKviIgX_Aa6"
      },
      "source": [
        "### **6. Validación**"
      ]
    },
    {
      "cell_type": "code",
      "metadata": {
        "id": "McYnKxeBbgvW",
        "colab_type": "code",
        "colab": {
          "base_uri": "https://localhost:8080/",
          "height": 935
        },
        "outputId": "e90c8281-5a9b-49d1-c3b0-abeadbf82ef7"
      },
      "source": [
        "print('Reporte para el Modelo completo')\n",
        "print(classification_report(Y_test, y_pred1, target_names=class_names))\n",
        "print('Reporte para el Modelo reducido')\n",
        "print(classification_report(Y_test, y_pred2, target_names=class_names))\n",
        "print('Reporte para el Modelo reducido con Ruido')\n",
        "print(classification_report(Y_test, y_pred3, target_names=class_names))"
      ],
      "execution_count": null,
      "outputs": [
        {
          "output_type": "stream",
          "text": [
            "Reporte para el Modelo completo\n",
            "              precision    recall  f1-score   support\n",
            "\n",
            " T-shirt/top       0.89      0.78      0.83      1000\n",
            "     Trouser       0.99      0.97      0.98      1000\n",
            "    Pullover       0.82      0.78      0.80      1000\n",
            "       Dress       0.89      0.90      0.89      1000\n",
            "        Coat       0.78      0.86      0.82      1000\n",
            "      Sandal       0.98      0.97      0.98      1000\n",
            "       Shirt       0.70      0.75      0.72      1000\n",
            "     Sneaker       0.94      0.97      0.96      1000\n",
            "         Bag       0.98      0.98      0.98      1000\n",
            "  Ankle boot       0.97      0.95      0.96      1000\n",
            "\n",
            "    accuracy                           0.89     10000\n",
            "   macro avg       0.89      0.89      0.89     10000\n",
            "weighted avg       0.89      0.89      0.89     10000\n",
            "\n",
            "Reporte para el Modelo reducido\n",
            "              precision    recall  f1-score   support\n",
            "\n",
            " T-shirt/top       0.85      0.83      0.84      1000\n",
            "     Trouser       0.99      0.97      0.98      1000\n",
            "    Pullover       0.82      0.76      0.79      1000\n",
            "       Dress       0.88      0.92      0.90      1000\n",
            "        Coat       0.76      0.85      0.80      1000\n",
            "      Sandal       0.97      0.95      0.96      1000\n",
            "       Shirt       0.72      0.67      0.70      1000\n",
            "     Sneaker       0.92      0.97      0.95      1000\n",
            "         Bag       0.98      0.97      0.98      1000\n",
            "  Ankle boot       0.96      0.95      0.96      1000\n",
            "\n",
            "    accuracy                           0.88     10000\n",
            "   macro avg       0.89      0.88      0.88     10000\n",
            "weighted avg       0.89      0.88      0.88     10000\n",
            "\n",
            "Reporte para el Modelo reducido con Ruido\n",
            "              precision    recall  f1-score   support\n",
            "\n",
            " T-shirt/top       0.85      0.86      0.85      1000\n",
            "     Trouser       0.99      0.98      0.99      1000\n",
            "    Pullover       0.84      0.82      0.83      1000\n",
            "       Dress       0.93      0.89      0.91      1000\n",
            "        Coat       0.79      0.89      0.83      1000\n",
            "      Sandal       0.98      0.97      0.97      1000\n",
            "       Shirt       0.76      0.71      0.74      1000\n",
            "     Sneaker       0.96      0.96      0.96      1000\n",
            "         Bag       0.99      0.97      0.98      1000\n",
            "  Ankle boot       0.96      0.97      0.96      1000\n",
            "\n",
            "    accuracy                           0.90     10000\n",
            "   macro avg       0.90      0.90      0.90     10000\n",
            "weighted avg       0.90      0.90      0.90     10000\n",
            "\n"
          ],
          "name": "stdout"
        }
      ]
    },
    {
      "cell_type": "code",
      "metadata": {
        "id": "l_WnJ4m4bibI",
        "colab_type": "code",
        "colab": {
          "base_uri": "https://localhost:8080/",
          "height": 1000
        },
        "outputId": "34c3ca4e-84a1-4c2b-b889-d03c72020dce"
      },
      "source": [
        "import seaborn as sns; sns.set()\n",
        "\n",
        "plt.figure(figsize=(8,8))\n",
        "mat = confusion_matrix(Y_test, y_pred1)\n",
        "sns.heatmap(mat.T, square=True, annot=True, cmap='Blues',fmt='d', cbar=False,\n",
        "            xticklabels=class_names,\n",
        "            yticklabels=class_names)\n",
        "plt.title('Modelo completo')\n",
        "plt.xlabel('true label')\n",
        "plt.ylabel('predicted label')\n",
        "plt.show()\n",
        "\n",
        "plt.figure(figsize=(8,8))\n",
        "mat = confusion_matrix(Y_test, y_pred2)\n",
        "sns.heatmap(mat.T, square=True, annot=True, cmap='Blues',fmt='d', cbar=False,\n",
        "            xticklabels=class_names,\n",
        "            yticklabels=class_names)\n",
        "plt.title('Modelo reducido')\n",
        "plt.xlabel('true label')\n",
        "plt.ylabel('predicted label')\n",
        "\n",
        "plt.figure(figsize=(8,8))\n",
        "mat = confusion_matrix(Y_test, y_pred3)\n",
        "sns.heatmap(mat.T, square=True, annot=True, cmap='Blues',fmt='d', cbar=False,\n",
        "            xticklabels=class_names,\n",
        "            yticklabels=class_names)\n",
        "plt.title('Modelo reducido con Ruido')\n",
        "plt.xlabel('true label')\n",
        "plt.ylabel('predicted label')"
      ],
      "execution_count": null,
      "outputs": [
        {
          "output_type": "display_data",
          "data": {
            "image/png": "[encoded data removed]",
            "text/plain": [
              "<Figure size 576x576 with 1 Axes>"
            ]
          },
          "metadata": {
            "tags": []
          }
        },
        {
          "output_type": "execute_result",
          "data": {
            "text/plain": [
              "Text(54.260000000000005, 0.5, 'predicted label')"
            ]
          },
          "metadata": {
            "tags": []
          },
          "execution_count": 55
        },
        {
          "output_type": "display_data",
          "data": {
            "image/png": "[encoded data removed]",
            "text/plain": [
              "<Figure size 576x576 with 1 Axes>"
            ]
          },
          "metadata": {
            "tags": []
          }
        },
        {
          "output_type": "display_data",
          "data": {
            "image/png": "[encoded data removed]",
            "text/plain": [
              "<Figure size 576x576 with 1 Axes>"
            ]
          },
          "metadata": {
            "tags": []
          }
        }
      ]
    },
    {
      "cell_type": "code",
      "metadata": {
        "id": "Za_I0QzQPzV2",
        "colab_type": "code",
        "colab": {}
      },
      "source": [
        ""
      ],
      "execution_count": null,
      "outputs": []
    }
  ]
}